{
 "cells": [
  {
   "cell_type": "code",
   "execution_count": 1,
   "metadata": {},
   "outputs": [],
   "source": [
    "from pystilts import tpipe"
   ]
  },
  {
   "cell_type": "code",
   "execution_count": 2,
   "metadata": {},
   "outputs": [],
   "source": [
    "mocLocation='ChandraMOC13_nograting.fits'\n",
    "ztfobjects='/Users/cxc/CDAAnnotation/example_notebooks/VOTables/ztf_api_stamp_objects.xml'\n",
    "outfile='ztf_CXC_footprint_STAMP.xml'\n",
    "expression=\"\"\"nearMoc(\\\\\"%s\\\\\", meanra, meandec, 0.02)\"\"\" % mocLocation\n",
    "expression='\"{0}\"'.format(expression)\n",
    "\n",
    "tpipe(infile=ztfobjects,\n",
    "      ifmt='votable',\n",
    "      ofmt='votable',\n",
    "      omode='out',\n",
    "      outfile=outfile, cmd='select %s'%expression)"
   ]
  },
  {
   "cell_type": "code",
   "execution_count": null,
   "metadata": {},
   "outputs": [],
   "source": []
  }
 ],
 "metadata": {
  "kernelspec": {
   "display_name": "Python 3",
   "language": "python",
   "name": "python3"
  },
  "language_info": {
   "codemirror_mode": {
    "name": "ipython",
    "version": 3
   },
   "file_extension": ".py",
   "mimetype": "text/x-python",
   "name": "python",
   "nbconvert_exporter": "python",
   "pygments_lexer": "ipython3",
   "version": "3.8.5"
  }
 },
 "nbformat": 4,
 "nbformat_minor": 4
}
