{
 "cells": [
  {
   "cell_type": "code",
   "execution_count": null,
   "metadata": {},
   "outputs": [],
   "source": [
    "from astropy.io import fits\n",
    "from astropy.time import Time\n",
    "from astropy.table import Table, setdiff, unique, vstack\n",
    "from astropy.io.votable import parse_single_table, from_table, writeto\n",
    "import astropy_healpix as hp\n",
    "import numpy as np\n",
    "import operator"
   ]
  },
  {
   "cell_type": "code",
   "execution_count": null,
   "metadata": {},
   "outputs": [],
   "source": [
    "hdu = fits.open('ChandraMOC10_nograting.fits')\n",
    "hdu.verify('fix')"
   ]
  },
  {
   "cell_type": "code",
   "execution_count": null,
   "metadata": {},
   "outputs": [],
   "source": [
    "hdu.info()\n",
    "hdu[1].columns.info()"
   ]
  },
  {
   "cell_type": "code",
   "execution_count": null,
   "metadata": {},
   "outputs": [],
   "source": [
    "data = hdu[1].data\n",
    "print(type(data))"
   ]
  },
  {
   "cell_type": "code",
   "execution_count": null,
   "metadata": {},
   "outputs": [],
   "source": [
    "data = np.array(hdu[1].data)\n",
    "order = 10.0\n",
    "f = 4.0 * (4.0**order)\n",
    "fl = np.array([f]*len(data))\n",
    "npix = np.subtract(fl,data)"
   ]
  },
  {
   "cell_type": "code",
   "execution_count": null,
   "metadata": {},
   "outputs": [],
   "source": [
    "# The following function changes the coordinates system of a map.\n",
    "def change_coord(m, coord):\n",
    "    \"\"\" Change coordinates of a HEALPIX map\n",
    "\n",
    "    Parameters\n",
    "    ----------\n",
    "    m : map or array of maps\n",
    "      map(s) to be rotated\n",
    "    coord : sequence of two character\n",
    "      First character is the coordinate system of m, second character\n",
    "      is the coordinate system of the output map. As in HEALPIX, allowed\n",
    "      coordinate systems are 'G' (galactic), 'E' (ecliptic) or 'C' (equatorial)\n",
    "\n",
    "    Example\n",
    "    -------\n",
    "    The following rotate m from galactic to equatorial coordinates.\n",
    "    Notice that m can contain both temperature and polarization.\n",
    "    >>>> change_coord(m, ['G', 'C'])\n",
    "    \"\"\"\n",
    "    # Basic HEALPix parameters\n",
    "    npix = m.shape[-1]\n",
    "    nside = hp.npix2nside(npix)\n",
    "    ang = hp.pix2ang(nside, np.arange(npix))\n",
    "\n",
    "    # Select the coordinate transformation\n",
    "    rot = hp.Rotator(coord=reversed(coord))\n",
    "\n",
    "    # Convert the coordinates\n",
    "    new_ang = rot(*ang)\n",
    "    new_pix = hp.ang2pix(nside, *new_ang)\n",
    "\n",
    "    return m[..., new_pix]"
   ]
  }
 ],
 "metadata": {
  "kernelspec": {
   "display_name": "Python 3",
   "language": "python",
   "name": "python3"
  },
  "language_info": {
   "codemirror_mode": {
    "name": "ipython",
    "version": 3
   },
   "file_extension": ".py",
   "mimetype": "text/x-python",
   "name": "python",
   "nbconvert_exporter": "python",
   "pygments_lexer": "ipython3",
   "version": "3.8.5"
  }
 },
 "nbformat": 4,
 "nbformat_minor": 4
}
