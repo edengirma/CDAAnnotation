{
 "cells": [
  {
   "cell_type": "code",
   "execution_count": 1,
   "metadata": {},
   "outputs": [],
   "source": [
    "import time\n",
    "from tqdm.notebook import trange, tqdm\n",
    "\n",
    "import numpy as np\n",
    "\n",
    "from matplotlib import pyplot as plt\n",
    "import matplotlib\n",
    "\n",
    "from astropy.table import Table\n",
    "from astropy.io.votable import parse_single_table, from_table, writeto\n",
    "from astropy.coordinates import SkyCoord\n",
    "from astropy import units as u\n",
    "from astropy.time import Time\n",
    "import pyvo as vo\n",
    "\n",
    "%matplotlib inline"
   ]
  },
  {
   "cell_type": "code",
   "execution_count": 2,
   "metadata": {},
   "outputs": [
    {
     "data": {
      "application/vnd.jupyter.widget-view+json": {
       "model_id": "153e1285d8984efea70b9860fd8786a9",
       "version_major": 2,
       "version_minor": 0
      },
      "text/plain": [
       "HBox(children=(HTML(value='Indexing'), FloatProgress(value=0.0, max=6025.0), HTML(value='')))"
      ]
     },
     "metadata": {},
     "output_type": "display_data"
    },
    {
     "name": "stdout",
     "output_type": "stream",
     "text": [
      "\n",
      "Runtime of the program is 409.782527923584\n"
     ]
    }
   ],
   "source": [
    "ztfobjects = parse_single_table(\"ztf_CXC_footprint_STAMP.xml\").to_table()\n",
    "skycoords = SkyCoord(ra=ztfobjects['meanra']*u.degree, dec=ztfobjects['meandec']*u.degree, frame='icrs')\n",
    "# cone = vo.dal.SCSService('http://cda.cfa.harvard.edu/csc2scs/coneSearch')\n",
    "cone = vo.dal.SCSService('https://cda.cfa.harvard.edu/cxcscs/coneSearch')\n",
    "maxrad = 50.0 * u.arcmin\n",
    "\n",
    "csc_results = []\n",
    "\n",
    "# Start timer\n",
    "start = time.time()\n",
    "\n",
    "for i in trange(len(ztfobjects), desc='Indexing'):\n",
    "    results = cone.search(pos=skycoords[i], radius=maxrad)\n",
    "    csc_results.append(results)\n",
    "\n",
    "# End timer\n",
    "end = time.time()\n",
    "print(f\"Runtime of the program is {end - start}\")\n",
    "\n",
    "csc_res = np.asarray(csc_results, dtype=object)"
   ]
  },
  {
   "cell_type": "code",
   "execution_count": 23,
   "metadata": {},
   "outputs": [],
   "source": [
    "ztfobjects['results']=csc_res\n",
    "\n",
    "f = np.vectorize(len)\n",
    "ztfobjects['n_res']=f(ztfobjects['results'])\n",
    "\n",
    "mask = (ztfobjects['n_res'] > 0)\n",
    "maskedztf = ztfobjects[mask]\n",
    "# print('Length: %i' % len(maskedztf))\n",
    "# maskedztf[:5]\n",
    "\n",
    "zeroobs_mask = (ztfobjects['n_res'] == 0)\n",
    "zero_ztf = ztfobjects[zeroobs_mask]\n",
    "writeto(zero_ztf, \"ztf_stampobjects_NOarchiveobs.xml\")"
   ]
  },
  {
   "cell_type": "code",
   "execution_count": 24,
   "metadata": {
    "scrolled": true
   },
   "outputs": [
    {
     "data": {
      "text/html": [
       "<i>Table length=2</i>\n",
       "<table id=\"table140300439563616\" class=\"table-striped table-bordered table-condensed\">\n",
       "<thead><tr><th>oid</th><th>ndethist</th><th>ncovhist</th><th>mjdstarthist</th><th>mjdendhist</th><th>corrected</th><th>stellar</th><th>ndet</th><th>g_r_max</th><th>g_r_max_corr</th><th>g_r_mean</th><th>g_r_mean_corr</th><th>firstmjd</th><th>lastmjd</th><th>deltajd</th><th>meanra</th><th>meandec</th><th>sigmara</th><th>sigmadec</th><th>class</th><th>classifier</th><th>probability</th><th>step_id_corr</th><th>results</th><th>n_res</th></tr></thead>\n",
       "<thead><tr><th>str12</th><th>str4</th><th>int64</th><th>float64</th><th>float64</th><th>bool</th><th>bool</th><th>int64</th><th>object</th><th>object</th><th>object</th><th>object</th><th>float64</th><th>float64</th><th>float64</th><th>float64</th><th>float64</th><th>object</th><th>object</th><th>str8</th><th>str16</th><th>float64</th><th>str16</th><th>object</th><th>int64</th></tr></thead>\n",
       "<tr><td>ZTF18abiwqjk</td><td>10</td><td>1759</td><td>58316.432106500026</td><td>59329.505381899886</td><td>True</td><td>True</td><td>2</td><td>None</td><td>None</td><td>None</td><td>None</td><td>58435.2652431</td><td>59329.505381899886</td><td>894.2401387998834</td><td>3.2398945</td><td>50.35809655</td><td>0.00012586500705121358</td><td>3.698168465613856e-05</td><td>bogus</td><td>stamp_classifier</td><td>0.38414162</td><td>correction_0.0.1</td><td>&lt;Table length=1&gt;\n",
       "obsid          ra               dec        ...  status   public_avail_date \n",
       "              deg               deg        ...                             \n",
       "object      float64           float64      ...  object         object      \n",
       "------ ----------------- ----------------- ... -------- -------------------\n",
       "  1864 3.072916666666667 50.43136111111111 ... archived 2002-01-09T00:00:00</td><td>1</td></tr>\n",
       "<tr><td>ZTF18abiagdn</td><td>4</td><td>1770</td><td>58317.3802894</td><td>59329.505381899886</td><td>True</td><td>True</td><td>2</td><td>None</td><td>None</td><td>None</td><td>None</td><td>58435.2652431</td><td>59329.505381899886</td><td>894.2401387998834</td><td>3.23719265</td><td>50.10339005</td><td>0.0004404568140012446</td><td>0.00024515392103841997</td><td>bogus</td><td>stamp_classifier</td><td>0.6067099</td><td>correction_0.0.1</td><td>&lt;Table length=1&gt;\n",
       "obsid          ra               dec        ...  status   public_avail_date \n",
       "              deg               deg        ...                             \n",
       "object      float64           float64      ...  object         object      \n",
       "------ ----------------- ----------------- ... -------- -------------------\n",
       "  1864 3.072916666666667 50.43136111111111 ... archived 2002-01-09T00:00:00</td><td>1</td></tr>\n",
       "</table>"
      ],
      "text/plain": [
       "<Table length=2>\n",
       "    oid      ndethist ... n_res\n",
       "   str12       str4   ... int64\n",
       "------------ -------- ... -----\n",
       "ZTF18abiwqjk       10 ...     1\n",
       "ZTF18abiagdn        4 ...     1"
      ]
     },
     "execution_count": 24,
     "metadata": {},
     "output_type": "execute_result"
    }
   ],
   "source": [
    "maskedztf[:2]"
   ]
  },
  {
   "cell_type": "code",
   "execution_count": 25,
   "metadata": {},
   "outputs": [
    {
     "data": {
      "image/png": "[encoded data removed]",
      "text/plain": [
       "<Figure size 432x288 with 1 Axes>"
      ]
     },
     "metadata": {
      "needs_background": "light"
     },
     "output_type": "display_data"
    },
    {
     "data": {
      "image/png": "[encoded data removed]",
      "text/plain": [
       "<Figure size 432x288 with 1 Axes>"
      ]
     },
     "metadata": {
      "needs_background": "light"
     },
     "output_type": "display_data"
    }
   ],
   "source": [
    "plt.plot(maskedztf['meanra'], maskedztf['meandec'], 'o', ms=1, color='blue')\n",
    "plt.title(\"ZTF objects, >= 1 archive observations\")\n",
    "plt.xlabel(\"RA (deg)\")\n",
    "plt.ylabel(\"Dec (deg)\")\n",
    "plt.xlim([0, 360])\n",
    "plt.ylim([-90, 90])\n",
    "plt.savefig('observed_ZTF_objects.pdf')\n",
    "plt.show()\n",
    "\n",
    "plt.plot(zero_ztf['meanra'], zero_ztf['meandec'], 'o', ms=1, color='red')\n",
    "plt.title(\"ZTF objects, 0 archive observations\")\n",
    "plt.xlabel(\"RA (deg)\")\n",
    "plt.ylabel(\"Dec (deg)\")\n",
    "plt.xlim([0, 360])\n",
    "plt.ylim([-90, 90])\n",
    "plt.savefig('NOTobserved_ZTF_objects.pdf')\n",
    "plt.show()"
   ]
  },
  {
   "cell_type": "code",
   "execution_count": 26,
   "metadata": {},
   "outputs": [],
   "source": [
    "rztf = maskedztf['results'].data\n",
    "obsids = np.asarray([t['obsid'].data.astype(str) for t in rztf], dtype=object)\n",
    "of = np.hstack(obsids)\n",
    "tof = tuple(of)\n",
    "# tof"
   ]
  },
  {
   "cell_type": "code",
   "execution_count": 27,
   "metadata": {},
   "outputs": [
    {
     "name": "stdout",
     "output_type": "stream",
     "text": [
      "Runtime of the program is 137.0635907649994\n"
     ]
    }
   ],
   "source": [
    "tapservice = vo.dal.TAPService(\"https://cda.cfa.harvard.edu/cxctap/\")\n",
    "query = '''\n",
    "SELECT o.obs_id, o.obs_creation_date, o.s_ra, o.s_dec, o.s_region\n",
    "FROM ivoa.ObsCore AS o\n",
    "WHERE o.dataproduct_type = 'event' AND o.obs_id IN {}\n",
    "'''.format(tof)\n",
    "\n",
    "# Start timer\n",
    "start = time.time()\n",
    "\n",
    "tapresult = tapservice.search(query)\n",
    "\n",
    "# End timer\n",
    "end = time.time()\n",
    "print(f\"Runtime of the program is {end - start}\")\n",
    "\n",
    "tresult = tapresult.to_table()\n",
    "tresult['obs_creation_date'] = Time(tresult['obs_creation_date'].astype(str), format='isot', scale='utc').mjd\n",
    "tresult['obs_id'] = tresult['obs_id'].astype(str)"
   ]
  },
  {
   "cell_type": "code",
   "execution_count": null,
   "metadata": {},
   "outputs": [],
   "source": [
    "# Testing to see if this works...\n",
    "# a = obsids[4]\n",
    "# print(a)\n",
    "# print(np.count_nonzero(np.in1d(tresult['obs_id'], a) == True))\n",
    "# tresult[np.in1d(tresult['obs_id'], a)]"
   ]
  },
  {
   "cell_type": "code",
   "execution_count": 28,
   "metadata": {},
   "outputs": [],
   "source": [
    "footprints = np.asarray([tresult[np.in1d(tresult['obs_id'], a)] for a in obsids], dtype=object)\n",
    "maskedztf['footprints'] = footprints"
   ]
  },
  {
   "cell_type": "code",
   "execution_count": 29,
   "metadata": {},
   "outputs": [
    {
     "data": {
      "text/html": [
       "<i>Table length=2</i>\n",
       "<table id=\"table140300439455536\" class=\"table-striped table-bordered table-condensed\">\n",
       "<thead><tr><th>oid</th><th>ndethist</th><th>ncovhist</th><th>mjdstarthist</th><th>mjdendhist</th><th>corrected</th><th>stellar</th><th>ndet</th><th>g_r_max</th><th>g_r_max_corr</th><th>g_r_mean</th><th>g_r_mean_corr</th><th>firstmjd</th><th>lastmjd</th><th>deltajd</th><th>meanra</th><th>meandec</th><th>sigmara</th><th>sigmadec</th><th>class</th><th>classifier</th><th>probability</th><th>step_id_corr</th><th>results</th><th>n_res</th><th>footprints</th></tr></thead>\n",
       "<thead><tr><th>str12</th><th>str4</th><th>int64</th><th>float64</th><th>float64</th><th>bool</th><th>bool</th><th>int64</th><th>object</th><th>object</th><th>object</th><th>object</th><th>float64</th><th>float64</th><th>float64</th><th>float64</th><th>float64</th><th>object</th><th>object</th><th>str8</th><th>str16</th><th>float64</th><th>str16</th><th>object</th><th>int64</th><th>object</th></tr></thead>\n",
       "<tr><td>ZTF18abiwqjk</td><td>10</td><td>1759</td><td>58316.432106500026</td><td>59329.505381899886</td><td>True</td><td>True</td><td>2</td><td>None</td><td>None</td><td>None</td><td>None</td><td>58435.2652431</td><td>59329.505381899886</td><td>894.2401387998834</td><td>3.2398945</td><td>50.35809655</td><td>0.00012586500705121358</td><td>3.698168465613856e-05</td><td>bogus</td><td>stamp_classifier</td><td>0.38414162</td><td>correction_0.0.1</td><td>&lt;Table length=1&gt;\n",
       "obsid          ra               dec        ...  status   public_avail_date \n",
       "              deg               deg        ...                             \n",
       "object      float64           float64      ...  object         object      \n",
       "------ ----------------- ----------------- ... -------- -------------------\n",
       "  1864 3.072916666666667 50.43136111111111 ... archived 2002-01-09T00:00:00</td><td>1</td><td>obs_id ...\n",
       "       ...\n",
       "------ ...\n",
       "  1864 ...</td></tr>\n",
       "<tr><td>ZTF18abiagdn</td><td>4</td><td>1770</td><td>58317.3802894</td><td>59329.505381899886</td><td>True</td><td>True</td><td>2</td><td>None</td><td>None</td><td>None</td><td>None</td><td>58435.2652431</td><td>59329.505381899886</td><td>894.2401387998834</td><td>3.23719265</td><td>50.10339005</td><td>0.0004404568140012446</td><td>0.00024515392103841997</td><td>bogus</td><td>stamp_classifier</td><td>0.6067099</td><td>correction_0.0.1</td><td>&lt;Table length=1&gt;\n",
       "obsid          ra               dec        ...  status   public_avail_date \n",
       "              deg               deg        ...                             \n",
       "object      float64           float64      ...  object         object      \n",
       "------ ----------------- ----------------- ... -------- -------------------\n",
       "  1864 3.072916666666667 50.43136111111111 ... archived 2002-01-09T00:00:00</td><td>1</td><td>obs_id ...\n",
       "       ...\n",
       "------ ...\n",
       "  1864 ...</td></tr>\n",
       "</table>"
      ],
      "text/plain": [
       "<Table length=2>\n",
       "    oid      ndethist ... n_res                  footprints                \n",
       "   str12       str4   ... int64                    object                  \n",
       "------------ -------- ... ----- -------------------------------------------\n",
       "ZTF18abiwqjk       10 ...     1 obs_id ...\n",
       "       ...\n",
       "------ ...\n",
       "  1864 ...\n",
       "ZTF18abiagdn        4 ...     1 obs_id ...\n",
       "       ...\n",
       "------ ...\n",
       "  1864 ..."
      ]
     },
     "execution_count": 29,
     "metadata": {},
     "output_type": "execute_result"
    }
   ],
   "source": [
    "maskedztf[:2]"
   ]
  },
  {
   "cell_type": "code",
   "execution_count": 30,
   "metadata": {},
   "outputs": [],
   "source": [
    "filename = 'ztf_archive-obs_STAMP'\n",
    "writeto(maskedztf, filename)"
   ]
  },
  {
   "cell_type": "code",
   "execution_count": null,
   "metadata": {},
   "outputs": [],
   "source": []
  }
 ],
 "metadata": {
  "kernelspec": {
   "display_name": "Python 3",
   "language": "python",
   "name": "python3"
  },
  "language_info": {
   "codemirror_mode": {
    "name": "ipython",
    "version": 3
   },
   "file_extension": ".py",
   "mimetype": "text/x-python",
   "name": "python",
   "nbconvert_exporter": "python",
   "pygments_lexer": "ipython3",
   "version": "3.8.5"
  }
 },
 "nbformat": 4,
 "nbformat_minor": 4
}
