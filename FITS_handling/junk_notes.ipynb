{
 "cells": [
  {
   "cell_type": "code",
   "execution_count": null,
   "metadata": {},
   "outputs": [],
   "source": [
    "from pystilts import tpipe, addcol"
   ]
  },
  {
   "cell_type": "code",
   "execution_count": null,
   "metadata": {},
   "outputs": [],
   "source": [
    "# from the pystilts sourcecode\n",
    "\n",
    "def __checkq__(expression):\n",
    "    expression = expression.replace('\"', '').replace(\"'\", '')\n",
    "    expression = '\"{0}\"'.format(expression)\n",
    "    return expression"
   ]
  },
  {
   "cell_type": "code",
   "execution_count": null,
   "metadata": {},
   "outputs": [],
   "source": [
    "mocLocation=\"ChandraMOC13_nograting.fits\"\n",
    "ztfobjects_path='/Users/cxc/CDAAnnotation/example_notebooks/VOTables/ztf_api_stamp_objects.xml'\n",
    "outfile='test.xml'\n",
    "exp=\"\"\"nearMoc(\\\\\"%s\\\\\", meanra, meandec, 0.02)\"\"\" % mocLocation\n",
    "exp='\"{0}\"'.format(exp)\n",
    "print(exp)"
   ]
  },
  {
   "cell_type": "code",
   "execution_count": null,
   "metadata": {},
   "outputs": [],
   "source": [
    "#adds column with nearMoc boolean\n",
    "addcol(name='nearMoc', expression=exp, \n",
    "       before=None, after=None, units=None, ucd=None, \n",
    "       desc=None, infile=ztfobjects_path, outfile=outfile)"
   ]
  },
  {
   "cell_type": "code",
   "execution_count": null,
   "metadata": {},
   "outputs": [],
   "source": []
  }
 ],
 "metadata": {
  "kernelspec": {
   "display_name": "Python 3",
   "language": "python",
   "name": "python3"
  },
  "language_info": {
   "codemirror_mode": {
    "name": "ipython",
    "version": 3
   },
   "file_extension": ".py",
   "mimetype": "text/x-python",
   "name": "python",
   "nbconvert_exporter": "python",
   "pygments_lexer": "ipython3",
   "version": "3.8.5"
  }
 },
 "nbformat": 4,
 "nbformat_minor": 4
}
