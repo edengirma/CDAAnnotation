{
 "cells": [
  {
   "cell_type": "code",
   "execution_count": 1,
   "metadata": {},
   "outputs": [],
   "source": [
    "import sys\n",
    "import time\n",
    "\n",
    "# Packages for data and number handling\n",
    "import numpy as np\n",
    "import pandas as pd\n",
    "import math\n",
    "\n",
    "# Packages for calculating current time and extracting ZTF data to VOTable\n",
    "from astropy.time import Time\n",
    "from astropy.table import Table, setdiff, unique, vstack\n",
    "from astropy.io.votable import parse_single_table, from_table, writeto\n",
    "from datetime import datetime\n",
    "\n",
    "# Packages for display and data plotting, if desired\n",
    "from IPython.display import HTML\n",
    "from IPython.display import display\n",
    "import matplotlib.pyplot as plt\n",
    "%matplotlib inline"
   ]
  },
  {
   "cell_type": "code",
   "execution_count": 2,
   "metadata": {},
   "outputs": [],
   "source": [
    "stamp_objects = parse_single_table(\"VOTables/ztf_api_stamp_objects.xml\").to_table()\n",
    "lc_objects = parse_single_table(\"VOTables/ztf_api_lc_objects.xml\").to_table()"
   ]
  },
  {
   "cell_type": "markdown",
   "metadata": {},
   "source": [
    "## LC classifier objects"
   ]
  },
  {
   "cell_type": "code",
   "execution_count": 3,
   "metadata": {},
   "outputs": [
    {
     "data": {
      "text/plain": [
       "<Table length=110105>\n",
       "     name      dtype \n",
       "------------- -------\n",
       "          oid   str12\n",
       "     ndethist    str4\n",
       "     ncovhist   int64\n",
       " mjdstarthist float64\n",
       "   mjdendhist float64\n",
       "    corrected    bool\n",
       "      stellar    bool\n",
       "         ndet   int64\n",
       "      g_r_max  object\n",
       " g_r_max_corr  object\n",
       "     g_r_mean  object\n",
       "g_r_mean_corr  object\n",
       "     firstmjd float64\n",
       "      lastmjd float64\n",
       "      deltajd float64\n",
       "       meanra float64\n",
       "      meandec float64\n",
       "      sigmara float64\n",
       "     sigmadec float64\n",
       "        class   str14\n",
       "   classifier   str13\n",
       "  probability float64\n",
       " step_id_corr   str16"
      ]
     },
     "execution_count": 3,
     "metadata": {},
     "output_type": "execute_result"
    }
   ],
   "source": [
    "lc_objects.info"
   ]
  },
  {
   "cell_type": "code",
   "execution_count": 5,
   "metadata": {},
   "outputs": [
    {
     "name": "stdout",
     "output_type": "stream",
     "text": [
      "Number of duplicate OIDs: 173\n"
     ]
    }
   ],
   "source": [
    "# Identify duplicate OID entries - rows with same OID but different classes and probabilities\n",
    "obsgroup = lc_objects.group_by(['oid'])\n",
    "duplicates = []\n",
    "for key, group in zip(obsgroup.groups.keys, obsgroup.groups):\n",
    "    if len(group) > 1:\n",
    "        oid = group['oid'][1]\n",
    "        duplicates.append(oid)\n",
    "\n",
    "print('Number of duplicate OIDs: %i' % (len(duplicates)))"
   ]
  },
  {
   "cell_type": "code",
   "execution_count": 6,
   "metadata": {},
   "outputs": [
    {
     "data": {
      "text/html": [
       "<i>Table length=2</i>\n",
       "<table id=\"table140214799025392\" class=\"table-striped table-bordered table-condensed\">\n",
       "<thead><tr><th>oid</th><th>ndethist</th><th>ncovhist</th><th>mjdstarthist</th><th>mjdendhist</th><th>corrected</th><th>stellar</th><th>ndet</th><th>g_r_max</th><th>g_r_max_corr</th><th>g_r_mean</th><th>g_r_mean_corr</th><th>firstmjd</th><th>lastmjd</th><th>deltajd</th><th>meanra</th><th>meandec</th><th>sigmara</th><th>sigmadec</th><th>class</th><th>classifier</th><th>probability</th><th>step_id_corr</th></tr></thead>\n",
       "<thead><tr><th>str12</th><th>str4</th><th>int64</th><th>float64</th><th>float64</th><th>bool</th><th>bool</th><th>int64</th><th>object</th><th>object</th><th>object</th><th>object</th><th>float64</th><th>float64</th><th>float64</th><th>float64</th><th>float64</th><th>float64</th><th>float64</th><th>str14</th><th>str13</th><th>float64</th><th>str16</th></tr></thead>\n",
       "<tr><td>ZTF17aaaecgj</td><td>453</td><td>915</td><td>58095.136099500116</td><td>59329.48268519994</td><td>True</td><td>True</td><td>388</td><td>0.7726</td><td>0.940893</td><td>0.97359747</td><td>0.8993047</td><td>58285.42535880022</td><td>59329.48268519994</td><td>1044.0573263997212</td><td>314.6341218953608</td><td>56.741510996907216</td><td>0.0001113494073664217</td><td>8.862299233714988e-05</td><td>E</td><td>lc_classifier</td><td>0.22878</td><td>correction_0.0.1</td></tr>\n",
       "<tr><td>ZTF17aaaecgj</td><td>453</td><td>915</td><td>58095.136099500116</td><td>59329.48268519994</td><td>True</td><td>True</td><td>388</td><td>0.7726</td><td>0.940893</td><td>0.97359747</td><td>0.8993047</td><td>58285.42535880022</td><td>59329.48268519994</td><td>1044.0573263997212</td><td>314.6341218953608</td><td>56.741510996907216</td><td>0.0001113494073664217</td><td>8.862299233714988e-05</td><td>RRL</td><td>lc_classifier</td><td>0.22878</td><td>correction_0.0.1</td></tr>\n",
       "</table>"
      ],
      "text/plain": [
       "<Table length=2>\n",
       "    oid      ndethist ncovhist ...   classifier  probability   step_id_corr  \n",
       "   str12       str4    int64   ...     str13       float64        str16      \n",
       "------------ -------- -------- ... ------------- ----------- ----------------\n",
       "ZTF17aaaecgj      453      915 ... lc_classifier     0.22878 correction_0.0.1\n",
       "ZTF17aaaecgj      453      915 ... lc_classifier     0.22878 correction_0.0.1"
      ]
     },
     "execution_count": 6,
     "metadata": {},
     "output_type": "execute_result"
    }
   ],
   "source": [
    "# Print example rows with duplicate OIDs\n",
    "oid = duplicates[0]\n",
    "mask = (lc_objects['oid'] == oid)\n",
    "lc_objects[mask]"
   ]
  },
  {
   "cell_type": "markdown",
   "metadata": {},
   "source": [
    "New objects that are detected and classified by the LC classifier:"
   ]
  },
  {
   "cell_type": "code",
   "execution_count": 7,
   "metadata": {
    "scrolled": true
   },
   "outputs": [
    {
     "name": "stdout",
     "output_type": "stream",
     "text": [
      "Number of newly detected objects : 178\n",
      "Classes of newly detected objects : ['AGN', 'CEP', 'CV/Nova', 'DSCT', 'LPV', 'Periodic-Other', 'RRL', 'SNIbc', 'YSO']\n",
      "Ratio of new- to previously- detected objects : 0.001621808772345427\n"
     ]
    }
   ],
   "source": [
    "# First, remove duplicate OID rows\n",
    "lc_objects_unique = unique(lc_objects, keys='oid')\n",
    "\n",
    "new_lc_objects = lc_objects_unique[(lc_objects_unique['ndet'] <= 6)]\n",
    "\n",
    "print(\"Number of newly detected objects : %i\" % len(new_lc_objects))\n",
    "print(f\"Classes of newly detected objects : {sorted(set(new_lc_objects['class'].data))}\")\n",
    "print(f\"Ratio of new- to previously- detected objects : {len(new_lc_objects)/(len(lc_objects_unique)-len(new_lc_objects))}\")"
   ]
  },
  {
   "cell_type": "markdown",
   "metadata": {},
   "source": [
    "## Stamp classifier objects"
   ]
  },
  {
   "cell_type": "code",
   "execution_count": 8,
   "metadata": {},
   "outputs": [
    {
     "data": {
      "text/plain": [
       "<Table length=149117>\n",
       "     name      dtype \n",
       "------------- -------\n",
       "          oid   str12\n",
       "     ndethist    str4\n",
       "     ncovhist   int64\n",
       " mjdstarthist float64\n",
       "   mjdendhist float64\n",
       "    corrected    bool\n",
       "      stellar    bool\n",
       "         ndet   int64\n",
       "      g_r_max  object\n",
       " g_r_max_corr  object\n",
       "     g_r_mean  object\n",
       "g_r_mean_corr  object\n",
       "     firstmjd float64\n",
       "      lastmjd float64\n",
       "      deltajd float64\n",
       "       meanra float64\n",
       "      meandec float64\n",
       "      sigmara  object\n",
       "     sigmadec  object\n",
       "        class    str8\n",
       "   classifier   str16\n",
       "  probability float64\n",
       " step_id_corr   str16"
      ]
     },
     "execution_count": 8,
     "metadata": {},
     "output_type": "execute_result"
    }
   ],
   "source": [
    "stamp_objects.info"
   ]
  },
  {
   "cell_type": "code",
   "execution_count": 9,
   "metadata": {},
   "outputs": [
    {
     "name": "stdout",
     "output_type": "stream",
     "text": [
      "Number of duplicate OIDs: 0\n"
     ]
    }
   ],
   "source": [
    "# Identify duplicate OID entries - rows with same OID but different classes and probabilities\n",
    "obsgroup = stamp_objects.group_by(['oid'])\n",
    "duplicates = []\n",
    "for key, group in zip(obsgroup.groups.keys, obsgroup.groups):\n",
    "    if len(group) > 1:\n",
    "        oid = group['oid'][1]\n",
    "        duplicates.append(oid)\n",
    "\n",
    "print('Number of duplicate OIDs: %i' % (len(duplicates)))\n",
    "# Print example rows with duplicate OIDs\n",
    "if len(duplicates) > 0:\n",
    "    oid = duplicates[0]\n",
    "    mask = (lc_objects['oid'] == oid)\n",
    "    lc_objects[mask]"
   ]
  },
  {
   "cell_type": "markdown",
   "metadata": {},
   "source": [
    "New objects that are detected and classified by the stamp classifier:"
   ]
  },
  {
   "cell_type": "code",
   "execution_count": 10,
   "metadata": {},
   "outputs": [
    {
     "name": "stdout",
     "output_type": "stream",
     "text": [
      "Number of newly detected objects : 20703\n",
      "Classes of newly detected objects : ['AGN', 'SN', 'VS', 'asteroid', 'bogus']\n",
      "Ratio of new- to previously- detected objects : 0.1612207391717414\n"
     ]
    }
   ],
   "source": [
    "# First, remove duplicate OID rows\n",
    "stamp_objects_unique = unique(stamp_objects, keys='oid')\n",
    "\n",
    "new_stamp_objects = stamp_objects_unique[(stamp_objects_unique['ndet'] <= 1)]\n",
    "\n",
    "print(\"Number of newly detected objects : %i\" % len(new_stamp_objects))\n",
    "print(f\"Classes of newly detected objects : {sorted(set(new_stamp_objects['class'].data))}\")\n",
    "print(f\"Ratio of new- to previously- detected objects : {len(new_stamp_objects)/(len(stamp_objects_unique)-len(new_stamp_objects))}\")"
   ]
  },
  {
   "cell_type": "code",
   "execution_count": null,
   "metadata": {},
   "outputs": [],
   "source": []
  }
 ],
 "metadata": {
  "kernelspec": {
   "display_name": "Python 3",
   "language": "python",
   "name": "python3"
  },
  "language_info": {
   "codemirror_mode": {
    "name": "ipython",
    "version": 3
   },
   "file_extension": ".py",
   "mimetype": "text/x-python",
   "name": "python",
   "nbconvert_exporter": "python",
   "pygments_lexer": "ipython3",
   "version": "3.8.5"
  }
 },
 "nbformat": 4,
 "nbformat_minor": 4
}
