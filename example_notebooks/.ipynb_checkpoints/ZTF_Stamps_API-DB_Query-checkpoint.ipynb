{
 "cells": [
  {
   "cell_type": "markdown",
   "metadata": {},
   "source": [
    "# Querying ALeRCE - Stamp Classifier\n",
    "```Author: Eden Girma, Last updated 20210426```"
   ]
  },
  {
   "cell_type": "markdown",
   "metadata": {},
   "source": [
    "# Table of contents:\n",
    "* [Querying the ALeRCE API Python Client](#api)\n",
    "* [Replicating process with direct database query](#db)\n",
    "* [Comparing API and DB outputs](#compare)\n",
    "* [Understanding retrieved object data](#data)\n",
    "* [Exporting to VOTable](#export)"
   ]
  },
  {
   "cell_type": "markdown",
   "metadata": {},
   "source": [
    "**Goal:**\n",
    " \n",
    "1) To query the ALeRCE database for objects with the following attributes:\n",
    "* detected 24 - 48 hours from the current time\n",
    "* classified by the stamp classifier (version 1.0.4)\n",
    "\n",
    "2) To return a table consisting of ALeRCE alert objects that includes, per row:\n",
    "* aggregated detection properties per object (e.g. mean RA/Dec, number of detections)\n",
    "* probability of the highest ranking class assigned by the stamp classifier (v1.0.4)\n",
    "\n",
    "We will try this by querying the ALeRCE API first, and then directly querying the ZTF database."
   ]
  },
  {
   "cell_type": "code",
   "execution_count": 1,
   "metadata": {},
   "outputs": [],
   "source": [
    "import sys\n",
    "import time\n",
    "\n",
    "# Packages for direct database access\n",
    "# %pip install psycopg2\n",
    "import psycopg2\n",
    "import json\n",
    "\n",
    "# Packages for data and number handling\n",
    "import numpy as np\n",
    "import pandas as pd\n",
    "import math\n",
    "\n",
    "# Packages for calculating current time and extracting ZTF data to VOTable\n",
    "from astropy.time import Time\n",
    "from astropy.table import Table, unique, vstack\n",
    "from astropy.io.votable import from_table, writeto\n",
    "from datetime import datetime\n",
    "\n",
    "# Packages for display and data plotting, if desired\n",
    "from IPython.display import HTML\n",
    "from IPython.display import display\n",
    "import matplotlib.pyplot as plt\n",
    "%matplotlib inline"
   ]
  },
  {
   "cell_type": "code",
   "execution_count": 2,
   "metadata": {},
   "outputs": [],
   "source": [
    "# Set up ALeRCE python client\n",
    "from alerce.core import Alerce\n",
    "client = Alerce()"
   ]
  },
  {
   "cell_type": "markdown",
   "metadata": {},
   "source": [
    "## Querying the ALeRCE API Python Client<a class=\"anchor\" id=\"api\"></a>"
   ]
  },
  {
   "cell_type": "markdown",
   "metadata": {},
   "source": [
    "We will retrieve these objects per class, first by building a function that uses the ALeRCE client to query objects according to stamp classifier predictions.\n",
    "\n",
    "Note that according to the ZTF API (```ztf-api/api/sql/astro_object/astro_object.py```), the default ranking for ```query_objects``` when ranking is not specified is 1."
   ]
  },
  {
   "cell_type": "code",
   "execution_count": 3,
   "metadata": {},
   "outputs": [],
   "source": [
    "# Define function that queries objects according to class\n",
    "def query_class_objects(cn, min_lastmjd, max_lastmjd):\n",
    "    objects = client.query_objects(classifier = 'stamp_classifier',\n",
    "                                   classifier_version = 'stamp_classifier_1.0.4',\n",
    "                                   class_name = cn,\n",
    "                                   lastmjd = [min_lastmjd, max_lastmjd],\n",
    "                                   page_size = int(1e6),\n",
    "                                   format='pandas')\n",
    "    return objects"
   ]
  },
  {
   "cell_type": "code",
   "execution_count": 5,
   "metadata": {},
   "outputs": [
    {
     "name": "stdout",
     "output_type": "stream",
     "text": [
      "Class queried: AGN\n",
      "Class queried: SN\n",
      "Class queried: VS\n",
      "Class queried: asteroid\n",
      "Class queried: bogus\n",
      "Done.\n",
      "Runtime of the program is 100.1168200969696\n"
     ]
    }
   ],
   "source": [
    "# Querying the ALeRCE client for objects detected 24 - 48 hours from the current time, over a range of classes\n",
    "min_lastmjd = Time(datetime.today(), scale='utc').mjd - 2\n",
    "max_lastmjd = Time(datetime.today(), scale='utc').mjd - 1\n",
    "classes = [\"AGN\", \"SN\", \"VS\", \"asteroid\", \"bogus\"]\n",
    "apiobjects = Table()\n",
    "\n",
    "# Start timer\n",
    "start = time.time()\n",
    "\n",
    "for class_name in classes:\n",
    "    class_objects = query_class_objects(class_name, min_lastmjd, max_lastmjd)\n",
    "    if class_name == classes[0]:\n",
    "        apiobjects = class_objects\n",
    "    else:\n",
    "        apiobjects = pd.concat([apiobjects, class_objects])\n",
    "    \n",
    "    print('Class queried: %s' % (class_name))\n",
    "    \n",
    "    if class_name == classes[-1]:\n",
    "        print('Done.')\n",
    "\n",
    "# End timer\n",
    "end = time.time()\n",
    "print(f\"Runtime of the program is {end - start}\")"
   ]
  },
  {
   "cell_type": "code",
   "execution_count": 6,
   "metadata": {},
   "outputs": [
    {
     "name": "stdout",
     "output_type": "stream",
     "text": [
      "(149117, 23)\n"
     ]
    },
    {
     "data": {
      "text/html": [
       "<div>\n",
       "<style scoped>\n",
       "    .dataframe tbody tr th:only-of-type {\n",
       "        vertical-align: middle;\n",
       "    }\n",
       "\n",
       "    .dataframe tbody tr th {\n",
       "        vertical-align: top;\n",
       "    }\n",
       "\n",
       "    .dataframe thead th {\n",
       "        text-align: right;\n",
       "    }\n",
       "</style>\n",
       "<table border=\"1\" class=\"dataframe\">\n",
       "  <thead>\n",
       "    <tr style=\"text-align: right;\">\n",
       "      <th></th>\n",
       "      <th>oid</th>\n",
       "      <th>ndethist</th>\n",
       "      <th>ncovhist</th>\n",
       "      <th>mjdstarthist</th>\n",
       "      <th>mjdendhist</th>\n",
       "      <th>corrected</th>\n",
       "      <th>stellar</th>\n",
       "      <th>ndet</th>\n",
       "      <th>g_r_max</th>\n",
       "      <th>g_r_max_corr</th>\n",
       "      <th>...</th>\n",
       "      <th>lastmjd</th>\n",
       "      <th>deltajd</th>\n",
       "      <th>meanra</th>\n",
       "      <th>meandec</th>\n",
       "      <th>sigmara</th>\n",
       "      <th>sigmadec</th>\n",
       "      <th>class</th>\n",
       "      <th>classifier</th>\n",
       "      <th>probability</th>\n",
       "      <th>step_id_corr</th>\n",
       "    </tr>\n",
       "  </thead>\n",
       "  <tbody>\n",
       "    <tr>\n",
       "      <th>11177</th>\n",
       "      <td>ZTF21aaxlkho</td>\n",
       "      <td>8</td>\n",
       "      <td>1937</td>\n",
       "      <td>58647.475266</td>\n",
       "      <td>59329.505382</td>\n",
       "      <td>False</td>\n",
       "      <td>False</td>\n",
       "      <td>1</td>\n",
       "      <td>NaN</td>\n",
       "      <td>NaN</td>\n",
       "      <td>...</td>\n",
       "      <td>59329.505382</td>\n",
       "      <td>0.0</td>\n",
       "      <td>7.152682</td>\n",
       "      <td>50.226051</td>\n",
       "      <td>NaN</td>\n",
       "      <td>NaN</td>\n",
       "      <td>bogus</td>\n",
       "      <td>stamp_classifier</td>\n",
       "      <td>0.803533</td>\n",
       "      <td>correction_0.0.1</td>\n",
       "    </tr>\n",
       "    <tr>\n",
       "      <th>11228</th>\n",
       "      <td>ZTF21aaxlkhn</td>\n",
       "      <td>2</td>\n",
       "      <td>3060</td>\n",
       "      <td>58346.508507</td>\n",
       "      <td>59329.505382</td>\n",
       "      <td>True</td>\n",
       "      <td>True</td>\n",
       "      <td>1</td>\n",
       "      <td>NaN</td>\n",
       "      <td>NaN</td>\n",
       "      <td>...</td>\n",
       "      <td>59329.505382</td>\n",
       "      <td>0.0</td>\n",
       "      <td>6.993621</td>\n",
       "      <td>50.977596</td>\n",
       "      <td>NaN</td>\n",
       "      <td>NaN</td>\n",
       "      <td>bogus</td>\n",
       "      <td>stamp_classifier</td>\n",
       "      <td>0.668442</td>\n",
       "      <td>correction_0.0.1</td>\n",
       "    </tr>\n",
       "    <tr>\n",
       "      <th>40749</th>\n",
       "      <td>ZTF21aaxlkhj</td>\n",
       "      <td>10</td>\n",
       "      <td>2971</td>\n",
       "      <td>58355.363276</td>\n",
       "      <td>59329.505382</td>\n",
       "      <td>True</td>\n",
       "      <td>True</td>\n",
       "      <td>1</td>\n",
       "      <td>NaN</td>\n",
       "      <td>NaN</td>\n",
       "      <td>...</td>\n",
       "      <td>59329.505382</td>\n",
       "      <td>0.0</td>\n",
       "      <td>7.253841</td>\n",
       "      <td>46.525461</td>\n",
       "      <td>NaN</td>\n",
       "      <td>NaN</td>\n",
       "      <td>VS</td>\n",
       "      <td>stamp_classifier</td>\n",
       "      <td>0.583164</td>\n",
       "      <td>correction_0.0.1</td>\n",
       "    </tr>\n",
       "    <tr>\n",
       "      <th>40760</th>\n",
       "      <td>ZTF21aaxlkhh</td>\n",
       "      <td>9</td>\n",
       "      <td>1392</td>\n",
       "      <td>58332.485694</td>\n",
       "      <td>59329.505382</td>\n",
       "      <td>True</td>\n",
       "      <td>True</td>\n",
       "      <td>1</td>\n",
       "      <td>NaN</td>\n",
       "      <td>NaN</td>\n",
       "      <td>...</td>\n",
       "      <td>59329.505382</td>\n",
       "      <td>0.0</td>\n",
       "      <td>6.637137</td>\n",
       "      <td>46.686078</td>\n",
       "      <td>NaN</td>\n",
       "      <td>NaN</td>\n",
       "      <td>VS</td>\n",
       "      <td>stamp_classifier</td>\n",
       "      <td>0.559426</td>\n",
       "      <td>correction_0.0.1</td>\n",
       "    </tr>\n",
       "    <tr>\n",
       "      <th>40327</th>\n",
       "      <td>ZTF21aaxlkhg</td>\n",
       "      <td>8</td>\n",
       "      <td>1600</td>\n",
       "      <td>58316.431192</td>\n",
       "      <td>59329.505382</td>\n",
       "      <td>True</td>\n",
       "      <td>True</td>\n",
       "      <td>1</td>\n",
       "      <td>NaN</td>\n",
       "      <td>NaN</td>\n",
       "      <td>...</td>\n",
       "      <td>59329.505382</td>\n",
       "      <td>0.0</td>\n",
       "      <td>2.675685</td>\n",
       "      <td>50.540618</td>\n",
       "      <td>NaN</td>\n",
       "      <td>NaN</td>\n",
       "      <td>VS</td>\n",
       "      <td>stamp_classifier</td>\n",
       "      <td>0.474502</td>\n",
       "      <td>correction_0.0.1</td>\n",
       "    </tr>\n",
       "  </tbody>\n",
       "</table>\n",
       "<p>5 rows × 23 columns</p>\n",
       "</div>"
      ],
      "text/plain": [
       "                oid ndethist  ncovhist  mjdstarthist    mjdendhist  corrected  \\\n",
       "11177  ZTF21aaxlkho        8      1937  58647.475266  59329.505382      False   \n",
       "11228  ZTF21aaxlkhn        2      3060  58346.508507  59329.505382       True   \n",
       "40749  ZTF21aaxlkhj       10      2971  58355.363276  59329.505382       True   \n",
       "40760  ZTF21aaxlkhh        9      1392  58332.485694  59329.505382       True   \n",
       "40327  ZTF21aaxlkhg        8      1600  58316.431192  59329.505382       True   \n",
       "\n",
       "       stellar  ndet  g_r_max  g_r_max_corr  ...       lastmjd  deltajd  \\\n",
       "11177    False     1      NaN           NaN  ...  59329.505382      0.0   \n",
       "11228     True     1      NaN           NaN  ...  59329.505382      0.0   \n",
       "40749     True     1      NaN           NaN  ...  59329.505382      0.0   \n",
       "40760     True     1      NaN           NaN  ...  59329.505382      0.0   \n",
       "40327     True     1      NaN           NaN  ...  59329.505382      0.0   \n",
       "\n",
       "         meanra    meandec  sigmara  sigmadec  class        classifier  \\\n",
       "11177  7.152682  50.226051      NaN       NaN  bogus  stamp_classifier   \n",
       "11228  6.993621  50.977596      NaN       NaN  bogus  stamp_classifier   \n",
       "40749  7.253841  46.525461      NaN       NaN     VS  stamp_classifier   \n",
       "40760  6.637137  46.686078      NaN       NaN     VS  stamp_classifier   \n",
       "40327  2.675685  50.540618      NaN       NaN     VS  stamp_classifier   \n",
       "\n",
       "       probability      step_id_corr  \n",
       "11177     0.803533  correction_0.0.1  \n",
       "11228     0.668442  correction_0.0.1  \n",
       "40749     0.583164  correction_0.0.1  \n",
       "40760     0.559426  correction_0.0.1  \n",
       "40327     0.474502  correction_0.0.1  \n",
       "\n",
       "[5 rows x 23 columns]"
      ]
     },
     "execution_count": 6,
     "metadata": {},
     "output_type": "execute_result"
    }
   ],
   "source": [
    "# Prints the dataframe shape: (number of selected objects, number of selected filters)\n",
    "print(apiobjects.shape)\n",
    "\n",
    "# Sorting detections by lastMJD, firstMJD, and OID in descending order\n",
    "apiobjects = apiobjects.sort_values(by=['lastmjd', 'firstmjd', 'oid'], ascending=False)\n",
    "apiobjects.head()"
   ]
  },
  {
   "cell_type": "markdown",
   "metadata": {},
   "source": [
    "## Replicating process with direct database query<a class=\"anchor\" id=\"db\"></a>"
   ]
  },
  {
   "cell_type": "code",
   "execution_count": null,
   "metadata": {},
   "outputs": [],
   "source": [
    "# Open and load credentials\n",
    "credentials_file = \"../alercereaduser_v4.json\"\n",
    "with open(credentials_file) as jsonfile:\n",
    "    params = json.load(jsonfile)[\"params\"]\n",
    "    \n",
    "# Open a connection to the database\n",
    "conn = psycopg2.connect(dbname=params['dbname'], \n",
    "                        user=params['user'], \n",
    "                        host=params['host'], \n",
    "                        password=params['password'])"
   ]
  },
  {
   "cell_type": "code",
   "execution_count": null,
   "metadata": {},
   "outputs": [],
   "source": [
    "query='''\n",
    "SELECT\n",
    "    object.oid, object.meanra, object.meandec, object.sigmara, object.sigmadec,\n",
    "    object.firstmjd, object.lastmjd, object.ndet, \n",
    "    pr.classifier_name, pr.classifier_version, pr.class_name, \n",
    "    pr.ranking, pr.probability\n",
    "\n",
    "FROM \n",
    "    object INNER JOIN (\n",
    "        SELECT \n",
    "            probability.oid, probability.classifier_name, probability.classifier_version,\n",
    "            probability.class_name, probability.ranking, probability.probability\n",
    "        FROM\n",
    "            probability\n",
    "        WHERE\n",
    "            probability.classifier_name = 'stamp_classifier'\n",
    "            AND probability.classifier_version = 'stamp_classifier_1.0.4'\n",
    "            AND probability.ranking = 1\n",
    "    ) AS pr\n",
    "    ON object.oid = pr.oid\n",
    "\n",
    "WHERE \n",
    "    object.lastMJD >= %s\n",
    "    AND object.lastMJD <= %s\n",
    "''' % (min_lastmjd, max_lastmjd)\n",
    "\n",
    "# Outputs as a pd.DataFrame\n",
    "dbobjects = pd.read_sql_query(query, conn)"
   ]
  },
  {
   "cell_type": "code",
   "execution_count": null,
   "metadata": {},
   "outputs": [],
   "source": [
    "# Prints the dataframe shape: (number of selected objects, number of selected filters)\n",
    "print(dbobjects.shape)\n",
    "\n",
    "# Sorting detections by lastMJD in descending order\n",
    "dbobjects = dbobjects.sort_values(by=['lastmjd', 'firstmjd', 'oid'], ascending=False)\n",
    "dbobjects.head()"
   ]
  },
  {
   "cell_type": "markdown",
   "metadata": {},
   "source": [
    "## Comparing API and DB outputs<a class=\"anchor\" id=\"compare\"></a>"
   ]
  },
  {
   "cell_type": "code",
   "execution_count": null,
   "metadata": {},
   "outputs": [],
   "source": [
    "# Check that the OIDs of each row in the API table are identical to that of the corresponding row in the DB table\n",
    "print(set(dbobjects['oid'].values==apiobjects['oid'].values))"
   ]
  },
  {
   "cell_type": "code",
   "execution_count": null,
   "metadata": {},
   "outputs": [],
   "source": [
    "# Check if each row in the corresponds to a unique OID\n",
    "print(dbobjects['oid'].is_unique)"
   ]
  },
  {
   "cell_type": "markdown",
   "metadata": {},
   "source": [
    "## Understanding retrieved object data<a class=\"anchor\" id=\"data\"></a>"
   ]
  },
  {
   "cell_type": "markdown",
   "metadata": {},
   "source": [
    "For this, we'll only look at the dataframe retrieved from the API client (which is alright, as the ```dbobjects``` and ```apiobjects``` dataframes encompass the same OIDs.)"
   ]
  },
  {
   "cell_type": "markdown",
   "metadata": {},
   "source": [
    "The following prints out the number of OIDs that correspond to each class name:"
   ]
  },
  {
   "cell_type": "code",
   "execution_count": null,
   "metadata": {},
   "outputs": [],
   "source": [
    "# Count number of OIDs that correspond to each class name\n",
    "print('Total rows : %i' % (len(apiobjects.index)))\n",
    "obj_classes = apiobjects.groupby('class')\n",
    "for key in obj_classes.groups.keys():\n",
    "    l = obj_classes.groups[key].size\n",
    "    print('%s : %i' % (key, l))"
   ]
  },
  {
   "cell_type": "code",
   "execution_count": null,
   "metadata": {},
   "outputs": [],
   "source": [
    "# Identify duplicate OID entries - rows with same OID but different classes and probabilities\n",
    "obj_oid = apiobjects.groupby(['oid'])\n",
    "duplicates = []\n",
    "for key in obj_oid.groups.keys():\n",
    "    l = obj_oid.groups[key].size\n",
    "    if l > 1:\n",
    "        oid = key\n",
    "        duplicates.append(oid)\n",
    "\n",
    "print('Number of duplicate OIDs: %i' % (len(duplicates)))\n",
    "print('Number of unique OIDs : %i' % len(obj_oid))\n",
    "# Print example rows with duplicate OIDs\n",
    "if len(duplicates) > 0:\n",
    "    display(apiobjects[(apiobjects['oid']==duplicates[0])])"
   ]
  },
  {
   "cell_type": "markdown",
   "metadata": {},
   "source": [
    "## Exporting to VOTable <a class=\"anchor\" id=\"export\"></a>\n",
    "\n",
    "To save this data as a VOTable requires converting it from its current form (a ```pd.DataFrame```). This is possible with the ```Table``` object from ```astropy.table```, and the functions we initially imported from ```astropy.io.votable```. Essentially, we'll convert our ```pd.DataFrame``` to an ```astropy.table.Table``` to a ```astropy.io.votable.VOTableFile```, which can then be exported.\n",
    "\n",
    "_A buggy caveat, however_ -- ```astropy.io.votable.VOTableFile``` objects throw an error when you attempt to pass on masked/```NaN``` values. I've gotten around this, for now, by filling in the masked values the the _string_ ```\"None\"``` before the ```pd.DataFrame``` is converted to a ```Table```."
   ]
  },
  {
   "cell_type": "code",
   "execution_count": 7,
   "metadata": {},
   "outputs": [],
   "source": [
    "# Defining a function that allows you to export the dataframe into a VOTable\n",
    "def export_object_data(objects, filename):\n",
    "    # Filling the masked values with the string 'NaN'\n",
    "    objects_filled = objects.fillna('None')\n",
    "\n",
    "    # Converting filled dataframe to astropy Table, then astropy VOTableFile, then exporting into .xml\n",
    "    full_dt = Table.from_pandas(objects_filled)\n",
    "    votable = from_table(full_dt)\n",
    "    writeto(votable, filename)"
   ]
  },
  {
   "cell_type": "code",
   "execution_count": 8,
   "metadata": {},
   "outputs": [],
   "source": [
    "export_object_data(apiobjects, \"VOTables/ztf_api_stamp_objects.xml\")"
   ]
  },
  {
   "cell_type": "code",
   "execution_count": null,
   "metadata": {},
   "outputs": [],
   "source": []
  }
 ],
 "metadata": {
  "kernelspec": {
   "display_name": "Python 3",
   "language": "python",
   "name": "python3"
  },
  "language_info": {
   "codemirror_mode": {
    "name": "ipython",
    "version": 3
   },
   "file_extension": ".py",
   "mimetype": "text/x-python",
   "name": "python",
   "nbconvert_exporter": "python",
   "pygments_lexer": "ipython3",
   "version": "3.8.5"
  }
 },
 "nbformat": 4,
 "nbformat_minor": 4
}
