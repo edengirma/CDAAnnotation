{
 "cells": [
  {
   "cell_type": "markdown",
   "metadata": {},
   "source": [
    "# Directly Querying the ZTF (version 4) database\n",
    "```Author: Eden Girma, Last updated 20210422```"
   ]
  },
  {
   "cell_type": "markdown",
   "metadata": {},
   "source": [
    "# Table of contents:\n",
    "* [Connecting to ZTF Database](#connecting)\n",
    "* [Available database tables](#tables)\n",
    "* [Example: Querying objects from past 24-48 hr](#ex1)\n",
    "* [Exporting to VOTable](#exportVOTable)"
   ]
  },
  {
   "cell_type": "markdown",
   "metadata": {},
   "source": [
    "**Goal:**\n",
    " \n",
    "1) To query the ALeRCE database for objects with the following attributes:\n",
    "* detected 24 - 48 hours from the current time\n",
    "* classified by the stamp classifier (version 1.0.4)\n",
    "\n",
    "2) To return a table consisting of ALeRCE alert objects that includes, per row:\n",
    "* aggregated detection properties per object (e.g. mean RA/Dec, number of detections)\n",
    "* probability of the highest ranking class assigned by the stamp classifier (v1.0.4)"
   ]
  },
  {
   "cell_type": "code",
   "execution_count": 1,
   "metadata": {},
   "outputs": [],
   "source": [
    "import sys\n",
    "\n",
    "# Packages for direct database access\n",
    "# %pip install psycopg2\n",
    "import psycopg2\n",
    "import json\n",
    "\n",
    "# Packages for data and number handling\n",
    "import numpy as np\n",
    "import pandas as pd\n",
    "import math\n",
    "\n",
    "# Packages for calculating current time and extracting ZTF data to VOTable\n",
    "from astropy.time import Time\n",
    "from astropy.table import Table\n",
    "from astropy.io.votable import from_table, writeto\n",
    "from datetime import datetime\n",
    "\n",
    "# Packages for display and data plotting, if desired\n",
    "from IPython.display import HTML\n",
    "from IPython.display import display\n",
    "import matplotlib.pyplot as plt\n",
    "%matplotlib inline\n"
   ]
  },
  {
   "cell_type": "markdown",
   "metadata": {},
   "source": [
    "## Connecting to ZTF Database - version 4 <a class=\"anchor\" id=\"connecting\"></a>"
   ]
  },
  {
   "cell_type": "code",
   "execution_count": 2,
   "metadata": {},
   "outputs": [],
   "source": [
    "# Open and load credentials\n",
    "credentials_file = \"../alercereaduser_v4.json\"\n",
    "with open(credentials_file) as jsonfile:\n",
    "    params = json.load(jsonfile)[\"params\"]\n",
    "    \n",
    "# Open a connection to the database\n",
    "conn = psycopg2.connect(dbname=params['dbname'], \n",
    "                        user=params['user'], \n",
    "                        host=params['host'], \n",
    "                        password=params['password'])"
   ]
  },
  {
   "cell_type": "markdown",
   "metadata": {},
   "source": [
    "## Available database tables <a class=\"anchor\" id=\"tables\"></a>\n",
    "\n",
    "The following cell shows all of the tables available in the database, which can be used for querying."
   ]
  },
  {
   "cell_type": "code",
   "execution_count": null,
   "metadata": {},
   "outputs": [],
   "source": [
    "# Show all the available tables, sorted by tablename\n",
    "query = \"\"\"\n",
    "SELECT table_name\n",
    "FROM information_schema.tables\n",
    "WHERE table_schema='alerce'\n",
    "ORDER BY table_name;\n",
    "\"\"\"\n",
    "tables = pd.read_sql_query(query, conn)\n",
    "tables.sort_values(by=\"table_name\")"
   ]
  },
  {
   "cell_type": "markdown",
   "metadata": {},
   "source": [
    "The DB contains the following tables, among others:\n",
    "    \n",
    "* `object`: filter and bandpass aggregated properties per object\n",
    "* `probability`: classification probabilities\n",
    "* `magstat`: time aggregated bandpass dependent properties per object\n",
    "* `ps1_ztf`: closest PanSTARRS object as reported by ZTF\n",
    "* `ss_ztf`: closest MPC object as reported by ZTF\n",
    "* `gaia_ztf`: closet GAIA source as reported by ZTF\n",
    "* `detection`: individual detections, time and bandpass disaggregated\n",
    "* `feature`: advanced object features, used for machine learning classification\n",
    "* `non_detection`: limiting magnitudes in previous observations, the largest table of all\n",
    "\n",
    "A more comprehensive list of the tables and their columns are available at: https://docs.google.com/spreadsheets/d/1OH3Dz-s8pWy-cY2FuT59miItHMrpIRm1aOVCRTPwLGA/edit#gid=974214313"
   ]
  },
  {
   "cell_type": "markdown",
   "metadata": {},
   "source": [
    "Below, we can look at all of the columns that are available in all of the tables:"
   ]
  },
  {
   "cell_type": "code",
   "execution_count": null,
   "metadata": {},
   "outputs": [],
   "source": [
    "query = \"\"\"\n",
    "SELECT table_name, column_name, data_type\n",
    "FROM information_schema.columns\n",
    "ORDER BY table_name;\n",
    "\"\"\"\n",
    "columns = pd.read_sql_query(query, conn)\n",
    "display(columns[[\"table_name\", \"column_name\", \"data_type\"]])\n",
    "pd.options.display.max_rows = 101"
   ]
  },
  {
   "cell_type": "markdown",
   "metadata": {},
   "source": [
    "## Querying objects from past 24-48 hr <a class=\"anchor\" id=\"ex1\"></a>\n",
    "\n",
    "Let's pull all of the objects that have been classified between 24-48 hrs from now by the stamp classifier (version 1.0.4), along with their most likely probability class (ranking=1). "
   ]
  },
  {
   "cell_type": "code",
   "execution_count": 3,
   "metadata": {},
   "outputs": [],
   "source": [
    "min_lastmjd = Time(datetime.today(), scale='utc').mjd - 2\n",
    "max_lastmjd = Time(datetime.today(), scale='utc').mjd - 1\n",
    "\n",
    "query='''\n",
    "SELECT\n",
    "    object.oid, object.meanra, object.meandec, object.sigmara, object.sigmadec,\n",
    "    object.firstmjd, object.lastmjd, object.ndet, \n",
    "    pr.classifier_name, pr.classifier_version, pr.class_name, \n",
    "    pr.ranking, pr.probability\n",
    "\n",
    "FROM \n",
    "    object INNER JOIN (\n",
    "        SELECT \n",
    "            probability.oid, probability.classifier_name, probability.classifier_version,\n",
    "            probability.class_name, probability.ranking, probability.probability\n",
    "        FROM\n",
    "            probability\n",
    "        WHERE\n",
    "            probability.classifier_name = 'stamp_classifier'\n",
    "            AND probability.classifier_version = 'stamp_classifier_1.0.4'\n",
    "            AND probability.ranking = 1\n",
    "    ) AS pr\n",
    "    ON object.oid = pr.oid\n",
    "\n",
    "WHERE \n",
    "    object.lastMJD >= %s\n",
    "    AND object.lastMJD <= %s\n",
    "''' % (min_lastmjd, max_lastmjd)\n",
    "\n",
    "# Outputs as a pd.DataFrame\n",
    "objects = pd.read_sql_query(query, conn)"
   ]
  },
  {
   "cell_type": "code",
   "execution_count": 21,
   "metadata": {
    "scrolled": true
   },
   "outputs": [
    {
     "name": "stdout",
     "output_type": "stream",
     "text": [
      "(174548, 13)\n"
     ]
    },
    {
     "data": {
      "text/html": [
       "<div>\n",
       "<style scoped>\n",
       "    .dataframe tbody tr th:only-of-type {\n",
       "        vertical-align: middle;\n",
       "    }\n",
       "\n",
       "    .dataframe tbody tr th {\n",
       "        vertical-align: top;\n",
       "    }\n",
       "\n",
       "    .dataframe thead th {\n",
       "        text-align: right;\n",
       "    }\n",
       "</style>\n",
       "<table border=\"1\" class=\"dataframe\">\n",
       "  <thead>\n",
       "    <tr style=\"text-align: right;\">\n",
       "      <th></th>\n",
       "      <th>oid</th>\n",
       "      <th>meanra</th>\n",
       "      <th>meandec</th>\n",
       "      <th>sigmara</th>\n",
       "      <th>sigmadec</th>\n",
       "      <th>firstmjd</th>\n",
       "      <th>lastmjd</th>\n",
       "      <th>ndet</th>\n",
       "      <th>classifier_name</th>\n",
       "      <th>classifier_version</th>\n",
       "      <th>class_name</th>\n",
       "      <th>ranking</th>\n",
       "      <th>probability</th>\n",
       "    </tr>\n",
       "  </thead>\n",
       "  <tbody>\n",
       "    <tr>\n",
       "      <th>82089</th>\n",
       "      <td>ZTF21aaxbzdg</td>\n",
       "      <td>351.739807</td>\n",
       "      <td>41.903393</td>\n",
       "      <td>NaN</td>\n",
       "      <td>NaN</td>\n",
       "      <td>59325.50875</td>\n",
       "      <td>59325.50875</td>\n",
       "      <td>1</td>\n",
       "      <td>stamp_classifier</td>\n",
       "      <td>stamp_classifier_1.0.4</td>\n",
       "      <td>bogus</td>\n",
       "      <td>1</td>\n",
       "      <td>0.610910</td>\n",
       "    </tr>\n",
       "    <tr>\n",
       "      <th>82085</th>\n",
       "      <td>ZTF21aaxbzdb</td>\n",
       "      <td>352.325332</td>\n",
       "      <td>40.726352</td>\n",
       "      <td>NaN</td>\n",
       "      <td>NaN</td>\n",
       "      <td>59325.50875</td>\n",
       "      <td>59325.50875</td>\n",
       "      <td>1</td>\n",
       "      <td>stamp_classifier</td>\n",
       "      <td>stamp_classifier_1.0.4</td>\n",
       "      <td>bogus</td>\n",
       "      <td>1</td>\n",
       "      <td>0.741378</td>\n",
       "    </tr>\n",
       "    <tr>\n",
       "      <th>82045</th>\n",
       "      <td>ZTF21aaxbzda</td>\n",
       "      <td>352.325603</td>\n",
       "      <td>40.726483</td>\n",
       "      <td>NaN</td>\n",
       "      <td>NaN</td>\n",
       "      <td>59325.50875</td>\n",
       "      <td>59325.50875</td>\n",
       "      <td>1</td>\n",
       "      <td>stamp_classifier</td>\n",
       "      <td>stamp_classifier_1.0.4</td>\n",
       "      <td>bogus</td>\n",
       "      <td>1</td>\n",
       "      <td>0.666561</td>\n",
       "    </tr>\n",
       "    <tr>\n",
       "      <th>82086</th>\n",
       "      <td>ZTF21aaxbzcz</td>\n",
       "      <td>352.325597</td>\n",
       "      <td>40.726480</td>\n",
       "      <td>NaN</td>\n",
       "      <td>NaN</td>\n",
       "      <td>59325.50875</td>\n",
       "      <td>59325.50875</td>\n",
       "      <td>1</td>\n",
       "      <td>stamp_classifier</td>\n",
       "      <td>stamp_classifier_1.0.4</td>\n",
       "      <td>bogus</td>\n",
       "      <td>1</td>\n",
       "      <td>0.665880</td>\n",
       "    </tr>\n",
       "    <tr>\n",
       "      <th>82007</th>\n",
       "      <td>ZTF21aaxbzcl</td>\n",
       "      <td>353.464751</td>\n",
       "      <td>37.546543</td>\n",
       "      <td>NaN</td>\n",
       "      <td>NaN</td>\n",
       "      <td>59325.50875</td>\n",
       "      <td>59325.50875</td>\n",
       "      <td>1</td>\n",
       "      <td>stamp_classifier</td>\n",
       "      <td>stamp_classifier_1.0.4</td>\n",
       "      <td>bogus</td>\n",
       "      <td>1</td>\n",
       "      <td>0.785700</td>\n",
       "    </tr>\n",
       "  </tbody>\n",
       "</table>\n",
       "</div>"
      ],
      "text/plain": [
       "                oid      meanra    meandec  sigmara  sigmadec     firstmjd  \\\n",
       "82089  ZTF21aaxbzdg  351.739807  41.903393      NaN       NaN  59325.50875   \n",
       "82085  ZTF21aaxbzdb  352.325332  40.726352      NaN       NaN  59325.50875   \n",
       "82045  ZTF21aaxbzda  352.325603  40.726483      NaN       NaN  59325.50875   \n",
       "82086  ZTF21aaxbzcz  352.325597  40.726480      NaN       NaN  59325.50875   \n",
       "82007  ZTF21aaxbzcl  353.464751  37.546543      NaN       NaN  59325.50875   \n",
       "\n",
       "           lastmjd  ndet   classifier_name      classifier_version class_name  \\\n",
       "82089  59325.50875     1  stamp_classifier  stamp_classifier_1.0.4      bogus   \n",
       "82085  59325.50875     1  stamp_classifier  stamp_classifier_1.0.4      bogus   \n",
       "82045  59325.50875     1  stamp_classifier  stamp_classifier_1.0.4      bogus   \n",
       "82086  59325.50875     1  stamp_classifier  stamp_classifier_1.0.4      bogus   \n",
       "82007  59325.50875     1  stamp_classifier  stamp_classifier_1.0.4      bogus   \n",
       "\n",
       "       ranking  probability  \n",
       "82089        1     0.610910  \n",
       "82085        1     0.741378  \n",
       "82045        1     0.666561  \n",
       "82086        1     0.665880  \n",
       "82007        1     0.785700  "
      ]
     },
     "execution_count": 21,
     "metadata": {},
     "output_type": "execute_result"
    }
   ],
   "source": [
    "# Prints the dataframe shape: (number of selected objects, number of selected filters)\n",
    "print(objects.shape)\n",
    "\n",
    "# Sorting detections by lastMJD in descending order\n",
    "objects_sorted = objects.sort_values(by=['lastmjd', 'firstmjd', 'oid'], ascending=False)\n",
    "objects_sorted.head()"
   ]
  },
  {
   "cell_type": "code",
   "execution_count": 17,
   "metadata": {},
   "outputs": [
    {
     "name": "stdout",
     "output_type": "stream",
     "text": [
      "AGN : 18564\n",
      "SN : 1001\n",
      "VS : 106670\n",
      "asteroid : 26262\n",
      "bogus : 22051\n"
     ]
    }
   ],
   "source": [
    "# Count number of OIDs that correspond to each class name\n",
    "obj_classes = objects.groupby('class_name')\n",
    "for key in obj_classes.groups.keys():\n",
    "    l = obj_classes.groups[key].size\n",
    "    print('%s : %i' % (key, l))"
   ]
  },
  {
   "cell_type": "code",
   "execution_count": 5,
   "metadata": {},
   "outputs": [
    {
     "data": {
      "text/plain": [
       "True"
      ]
     },
     "execution_count": 5,
     "metadata": {},
     "output_type": "execute_result"
    }
   ],
   "source": [
    "# Check if each row corresponds to a unique OID\n",
    "objects['oid'].is_unique"
   ]
  },
  {
   "cell_type": "markdown",
   "metadata": {},
   "source": [
    "## Exporting to VOTable <a class=\"anchor\" id=\"exportVOTable\"></a>\n",
    "\n",
    "To save this data as a VOTable requires converting it from its current form (a ```pd.DataFrame```). This is possible with the ```Table``` object from ```astropy.table```, and the functions we initially imported from ```astropy.io.votable```. Essentially, we'll convert our ```pd.DataFrame``` to an ```astropy.table.Table``` to a ```astropy.io.votable.VOTableFile```, which can then be exported.\n",
    "\n",
    "_A buggy caveat, however_ -- ```astropy.io.votable.VOTableFile``` objects throw an error when you attempt to pass on masked/```NaN``` values. I've gotten around this, for now, by filling in the masked values the the _string_ ```\"None\"``` before the ```pd.DataFrame``` is converted to a ```Table```."
   ]
  },
  {
   "cell_type": "code",
   "execution_count": 22,
   "metadata": {},
   "outputs": [],
   "source": [
    "# Filling the masked values with the string 'NaN'\n",
    "objects_filled = objects_sorted.fillna('None')\n",
    "\n",
    "# Converting filled dataframe to astropy Table, then astropy VOTableFile, then exporting into .xml\n",
    "full_dt = Table.from_pandas(objects_filled)\n",
    "votable = from_table(full_dt)\n",
    "writeto(votable, \"ztf_v4_DB_output.xml\")"
   ]
  },
  {
   "cell_type": "code",
   "execution_count": null,
   "metadata": {},
   "outputs": [],
   "source": []
  }
 ],
 "metadata": {
  "kernelspec": {
   "display_name": "Python 3",
   "language": "python",
   "name": "python3"
  },
  "language_info": {
   "codemirror_mode": {
    "name": "ipython",
    "version": 3
   },
   "file_extension": ".py",
   "mimetype": "text/x-python",
   "name": "python",
   "nbconvert_exporter": "python",
   "pygments_lexer": "ipython3",
   "version": "3.8.5"
  }
 },
 "nbformat": 4,
 "nbformat_minor": 4
}
