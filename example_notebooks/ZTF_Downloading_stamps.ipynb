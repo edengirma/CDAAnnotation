{
 "cells": [
  {
   "cell_type": "markdown",
   "metadata": {},
   "source": [
    "# Downloading stamps (single object example)\n",
    "```Author: Eden Girma, Last updated 20210503```"
   ]
  },
  {
   "cell_type": "markdown",
   "metadata": {},
   "source": [
    "# Table of contents:\n",
    "* [Specify ZTF object ID and detections](#oid)\n",
    "* [Construct methods to extract stamps data](#methods)"
   ]
  },
  {
   "cell_type": "markdown",
   "metadata": {},
   "source": [
    "**Goal:**\n",
    "\n",
    "Given a classified ZTF object: to download stamp images as ```.fits``` files\n",
    "\n",
    "These objects will have been filtered by another processes, to see if they are actually in the Chandra footprint."
   ]
  },
  {
   "cell_type": "code",
   "execution_count": 1,
   "metadata": {},
   "outputs": [],
   "source": [
    "import sys\n",
    "import os #necessary for making new directory\n",
    "\n",
    "# Packages for direct database access\n",
    "# %pip install psycopg2\n",
    "import psycopg2\n",
    "import json\n",
    "\n",
    "# Packages for data and number handling\n",
    "import numpy as np\n",
    "import pandas as pd\n",
    "import math\n",
    "\n",
    "# Packages for calculating current time and extracting ZTF data to VOTable\n",
    "from astropy.time import Time\n",
    "from astropy.table import Table\n",
    "from astropy.io.votable import from_table, writeto\n",
    "import astropy.units as units\n",
    "from astropy.coordinates import SkyCoord\n",
    "from datetime import datetime\n",
    "\n",
    "# Handling FITS files\n",
    "from astropy.io import fits\n",
    "\n",
    "# Packages for display and data plotting, if desired\n",
    "from IPython.display import display, HTML\n",
    "import matplotlib.pyplot as plt\n",
    "import matplotlib.cm as cm\n",
    "%matplotlib inline\n",
    "\n",
    "import ephem\n",
    "import copy\n",
    "import pickle"
   ]
  },
  {
   "cell_type": "code",
   "execution_count": 2,
   "metadata": {},
   "outputs": [],
   "source": [
    "from alerce.core import Alerce\n",
    "client = Alerce()"
   ]
  },
  {
   "cell_type": "markdown",
   "metadata": {},
   "source": [
    "## Specify ZTF object ID and detections<a class=\"anchor\" id=\"oid\"></a>"
   ]
  },
  {
   "cell_type": "code",
   "execution_count": 3,
   "metadata": {},
   "outputs": [
    {
     "data": {
      "text/html": [
       "<div>\n",
       "<style scoped>\n",
       "    .dataframe tbody tr th:only-of-type {\n",
       "        vertical-align: middle;\n",
       "    }\n",
       "\n",
       "    .dataframe tbody tr th {\n",
       "        vertical-align: top;\n",
       "    }\n",
       "\n",
       "    .dataframe thead th {\n",
       "        text-align: right;\n",
       "    }\n",
       "</style>\n",
       "<table border=\"1\" class=\"dataframe\">\n",
       "  <thead>\n",
       "    <tr style=\"text-align: right;\">\n",
       "      <th></th>\n",
       "      <th>mjd</th>\n",
       "      <th>candid</th>\n",
       "      <th>fid</th>\n",
       "      <th>pid</th>\n",
       "      <th>diffmaglim</th>\n",
       "      <th>isdiffpos</th>\n",
       "      <th>nid</th>\n",
       "      <th>distnr</th>\n",
       "      <th>magpsf</th>\n",
       "      <th>magpsf_corr</th>\n",
       "      <th>...</th>\n",
       "      <th>magapbig</th>\n",
       "      <th>sigmagapbig</th>\n",
       "      <th>rfid</th>\n",
       "      <th>has_stamp</th>\n",
       "      <th>corrected</th>\n",
       "      <th>dubious</th>\n",
       "      <th>candid_alert</th>\n",
       "      <th>step_id_corr</th>\n",
       "      <th>phase</th>\n",
       "      <th>parent_candid</th>\n",
       "    </tr>\n",
       "  </thead>\n",
       "  <tbody>\n",
       "    <tr>\n",
       "      <th>0</th>\n",
       "      <td>58831.569803</td>\n",
       "      <td>1077569802115015001</td>\n",
       "      <td>1</td>\n",
       "      <td>1077569802115</td>\n",
       "      <td>18.976100</td>\n",
       "      <td>1</td>\n",
       "      <td>1077</td>\n",
       "      <td>0.639813</td>\n",
       "      <td>19.345400</td>\n",
       "      <td>18.682121</td>\n",
       "      <td>...</td>\n",
       "      <td>19.4852</td>\n",
       "      <td>0.5012</td>\n",
       "      <td>NaN</td>\n",
       "      <td>False</td>\n",
       "      <td>True</td>\n",
       "      <td>False</td>\n",
       "      <td>None</td>\n",
       "      <td>bulk_1.0.0</td>\n",
       "      <td>None</td>\n",
       "      <td>1099554912115015025</td>\n",
       "    </tr>\n",
       "    <tr>\n",
       "      <th>1</th>\n",
       "      <td>58846.553056</td>\n",
       "      <td>1092553052115015022</td>\n",
       "      <td>1</td>\n",
       "      <td>1092553052115</td>\n",
       "      <td>20.731081</td>\n",
       "      <td>1</td>\n",
       "      <td>1092</td>\n",
       "      <td>1.326210</td>\n",
       "      <td>19.916887</td>\n",
       "      <td>18.954903</td>\n",
       "      <td>...</td>\n",
       "      <td>19.4418</td>\n",
       "      <td>0.1427</td>\n",
       "      <td>719120121.0</td>\n",
       "      <td>False</td>\n",
       "      <td>True</td>\n",
       "      <td>False</td>\n",
       "      <td>None</td>\n",
       "      <td>bulk_1.0.0</td>\n",
       "      <td>None</td>\n",
       "      <td>1099554912115015025</td>\n",
       "    </tr>\n",
       "    <tr>\n",
       "      <th>2</th>\n",
       "      <td>58846.572083</td>\n",
       "      <td>1092572082115015003</td>\n",
       "      <td>2</td>\n",
       "      <td>1092572082115</td>\n",
       "      <td>20.162014</td>\n",
       "      <td>1</td>\n",
       "      <td>1092</td>\n",
       "      <td>0.620091</td>\n",
       "      <td>19.904514</td>\n",
       "      <td>18.489037</td>\n",
       "      <td>...</td>\n",
       "      <td>19.7133</td>\n",
       "      <td>0.3220</td>\n",
       "      <td>719120221.0</td>\n",
       "      <td>False</td>\n",
       "      <td>True</td>\n",
       "      <td>False</td>\n",
       "      <td>None</td>\n",
       "      <td>bulk_1.0.0</td>\n",
       "      <td>None</td>\n",
       "      <td>1099554912115015025</td>\n",
       "    </tr>\n",
       "    <tr>\n",
       "      <th>3</th>\n",
       "      <td>58850.516053</td>\n",
       "      <td>1096516052115015012</td>\n",
       "      <td>2</td>\n",
       "      <td>1096516052115</td>\n",
       "      <td>19.971603</td>\n",
       "      <td>1</td>\n",
       "      <td>1096</td>\n",
       "      <td>1.228304</td>\n",
       "      <td>20.186290</td>\n",
       "      <td>18.558607</td>\n",
       "      <td>...</td>\n",
       "      <td>19.5375</td>\n",
       "      <td>0.2454</td>\n",
       "      <td>719120221.0</td>\n",
       "      <td>False</td>\n",
       "      <td>True</td>\n",
       "      <td>False</td>\n",
       "      <td>None</td>\n",
       "      <td>bulk_1.0.0</td>\n",
       "      <td>None</td>\n",
       "      <td>1099554912115015025</td>\n",
       "    </tr>\n",
       "    <tr>\n",
       "      <th>4</th>\n",
       "      <td>58850.548935</td>\n",
       "      <td>1096548932115015015</td>\n",
       "      <td>1</td>\n",
       "      <td>1096548932115</td>\n",
       "      <td>20.483500</td>\n",
       "      <td>1</td>\n",
       "      <td>1096</td>\n",
       "      <td>1.648970</td>\n",
       "      <td>19.995500</td>\n",
       "      <td>NaN</td>\n",
       "      <td>...</td>\n",
       "      <td>19.4823</td>\n",
       "      <td>0.1532</td>\n",
       "      <td>NaN</td>\n",
       "      <td>False</td>\n",
       "      <td>False</td>\n",
       "      <td>True</td>\n",
       "      <td>None</td>\n",
       "      <td>bulk_1.0.0</td>\n",
       "      <td>None</td>\n",
       "      <td>1099554912115015025</td>\n",
       "    </tr>\n",
       "    <tr>\n",
       "      <th>5</th>\n",
       "      <td>58853.527442</td>\n",
       "      <td>1099527442115015024</td>\n",
       "      <td>1</td>\n",
       "      <td>1099527442115</td>\n",
       "      <td>20.760468</td>\n",
       "      <td>1</td>\n",
       "      <td>1099</td>\n",
       "      <td>1.350408</td>\n",
       "      <td>20.155785</td>\n",
       "      <td>19.047123</td>\n",
       "      <td>...</td>\n",
       "      <td>19.7932</td>\n",
       "      <td>0.1969</td>\n",
       "      <td>719120121.0</td>\n",
       "      <td>False</td>\n",
       "      <td>True</td>\n",
       "      <td>False</td>\n",
       "      <td>None</td>\n",
       "      <td>bulk_1.0.0</td>\n",
       "      <td>None</td>\n",
       "      <td>1099554912115015025</td>\n",
       "    </tr>\n",
       "    <tr>\n",
       "      <th>6</th>\n",
       "      <td>58853.554919</td>\n",
       "      <td>1099554912115015025</td>\n",
       "      <td>2</td>\n",
       "      <td>1099554912115</td>\n",
       "      <td>20.647800</td>\n",
       "      <td>1</td>\n",
       "      <td>1099</td>\n",
       "      <td>0.911095</td>\n",
       "      <td>20.294432</td>\n",
       "      <td>18.581839</td>\n",
       "      <td>...</td>\n",
       "      <td>20.0368</td>\n",
       "      <td>0.2988</td>\n",
       "      <td>719120221.0</td>\n",
       "      <td>False</td>\n",
       "      <td>True</td>\n",
       "      <td>False</td>\n",
       "      <td>None</td>\n",
       "      <td>bulk_1.0.0</td>\n",
       "      <td>None</td>\n",
       "      <td>1102557632115015020</td>\n",
       "    </tr>\n",
       "    <tr>\n",
       "      <th>7</th>\n",
       "      <td>58856.557639</td>\n",
       "      <td>1102557632115015020</td>\n",
       "      <td>1</td>\n",
       "      <td>1102557632115</td>\n",
       "      <td>20.644367</td>\n",
       "      <td>1</td>\n",
       "      <td>1102</td>\n",
       "      <td>1.591064</td>\n",
       "      <td>20.203712</td>\n",
       "      <td>NaN</td>\n",
       "      <td>...</td>\n",
       "      <td>19.6838</td>\n",
       "      <td>0.1845</td>\n",
       "      <td>719120121.0</td>\n",
       "      <td>True</td>\n",
       "      <td>False</td>\n",
       "      <td>True</td>\n",
       "      <td>None</td>\n",
       "      <td>bulk_1.0.0</td>\n",
       "      <td>None</td>\n",
       "      <td>0</td>\n",
       "    </tr>\n",
       "  </tbody>\n",
       "</table>\n",
       "<p>8 rows × 33 columns</p>\n",
       "</div>"
      ],
      "text/plain": [
       "            mjd               candid  fid            pid  diffmaglim  \\\n",
       "0  58831.569803  1077569802115015001    1  1077569802115   18.976100   \n",
       "1  58846.553056  1092553052115015022    1  1092553052115   20.731081   \n",
       "2  58846.572083  1092572082115015003    2  1092572082115   20.162014   \n",
       "3  58850.516053  1096516052115015012    2  1096516052115   19.971603   \n",
       "4  58850.548935  1096548932115015015    1  1096548932115   20.483500   \n",
       "5  58853.527442  1099527442115015024    1  1099527442115   20.760468   \n",
       "6  58853.554919  1099554912115015025    2  1099554912115   20.647800   \n",
       "7  58856.557639  1102557632115015020    1  1102557632115   20.644367   \n",
       "\n",
       "   isdiffpos   nid    distnr     magpsf  magpsf_corr  ... magapbig  \\\n",
       "0          1  1077  0.639813  19.345400    18.682121  ...  19.4852   \n",
       "1          1  1092  1.326210  19.916887    18.954903  ...  19.4418   \n",
       "2          1  1092  0.620091  19.904514    18.489037  ...  19.7133   \n",
       "3          1  1096  1.228304  20.186290    18.558607  ...  19.5375   \n",
       "4          1  1096  1.648970  19.995500          NaN  ...  19.4823   \n",
       "5          1  1099  1.350408  20.155785    19.047123  ...  19.7932   \n",
       "6          1  1099  0.911095  20.294432    18.581839  ...  20.0368   \n",
       "7          1  1102  1.591064  20.203712          NaN  ...  19.6838   \n",
       "\n",
       "   sigmagapbig         rfid  has_stamp  corrected  dubious  candid_alert  \\\n",
       "0       0.5012          NaN      False       True    False          None   \n",
       "1       0.1427  719120121.0      False       True    False          None   \n",
       "2       0.3220  719120221.0      False       True    False          None   \n",
       "3       0.2454  719120221.0      False       True    False          None   \n",
       "4       0.1532          NaN      False      False     True          None   \n",
       "5       0.1969  719120121.0      False       True    False          None   \n",
       "6       0.2988  719120221.0      False       True    False          None   \n",
       "7       0.1845  719120121.0       True      False     True          None   \n",
       "\n",
       "  step_id_corr  phase        parent_candid  \n",
       "0   bulk_1.0.0   None  1099554912115015025  \n",
       "1   bulk_1.0.0   None  1099554912115015025  \n",
       "2   bulk_1.0.0   None  1099554912115015025  \n",
       "3   bulk_1.0.0   None  1099554912115015025  \n",
       "4   bulk_1.0.0   None  1099554912115015025  \n",
       "5   bulk_1.0.0   None  1099554912115015025  \n",
       "6   bulk_1.0.0   None  1102557632115015020  \n",
       "7   bulk_1.0.0   None                    0  \n",
       "\n",
       "[8 rows x 33 columns]"
      ]
     },
     "metadata": {},
     "output_type": "display_data"
    },
    {
     "data": {
      "text/plain": [
       "['mjd',\n",
       " 'candid',\n",
       " 'fid',\n",
       " 'pid',\n",
       " 'diffmaglim',\n",
       " 'isdiffpos',\n",
       " 'nid',\n",
       " 'distnr',\n",
       " 'magpsf',\n",
       " 'magpsf_corr',\n",
       " 'magpsf_corr_ext',\n",
       " 'magap',\n",
       " 'magap_corr',\n",
       " 'sigmapsf',\n",
       " 'sigmapsf_corr',\n",
       " 'sigmapsf_corr_ext',\n",
       " 'sigmagap',\n",
       " 'sigmagap_corr',\n",
       " 'ra',\n",
       " 'dec',\n",
       " 'rb',\n",
       " 'rbversion',\n",
       " 'drb',\n",
       " 'magapbig',\n",
       " 'sigmagapbig',\n",
       " 'rfid',\n",
       " 'has_stamp',\n",
       " 'corrected',\n",
       " 'dubious',\n",
       " 'candid_alert',\n",
       " 'step_id_corr',\n",
       " 'phase',\n",
       " 'parent_candid']"
      ]
     },
     "execution_count": 3,
     "metadata": {},
     "output_type": "execute_result"
    }
   ],
   "source": [
    "obj_oid = 'ZTF19acymzwg'\n",
    "\n",
    "detections = client.query_detections(oid=obj_oid, format='pandas')\n",
    "display(detections)\n",
    "\n",
    "# Print detections dataframe columns:\n",
    "detections.columns.tolist()"
   ]
  },
  {
   "cell_type": "markdown",
   "metadata": {},
   "source": [
    "## Construct methods to extract stamps data<a class=\"anchor\" id=\"methods\"></a>"
   ]
  },
  {
   "cell_type": "code",
   "execution_count": 4,
   "metadata": {},
   "outputs": [],
   "source": [
    "def getStampsData(oid):\n",
    "    stamps = {}\n",
    "    stamps['oid']=oid\n",
    "    stamps['candids']=[]\n",
    "    detections = client.query_detections(oid=oid, format='pandas')\n",
    "    for candid_name in detections['candid']:\n",
    "        candid_stamps = client.get_stamps(oid, candid=candid_name)\n",
    "        if candid_stamps != None:\n",
    "            stamps['candids'].append((candid_name, candid_stamps))\n",
    "    return stamps"
   ]
  },
  {
   "cell_type": "markdown",
   "metadata": {},
   "source": [
    "A note that the ```candid_stamps``` are an ```astropy.io.fits.hdu.hdulist.HDUList``` object."
   ]
  },
  {
   "cell_type": "code",
   "execution_count": 5,
   "metadata": {},
   "outputs": [],
   "source": [
    "def saveStampsData(oid):\n",
    "    stamps = getStampsData(oid)\n",
    "    parent_dir=oid\n",
    "    os.mkdir(parent_dir)\n",
    "    for t in stamps['candids']:\n",
    "        candid_name, candid = t\n",
    "        filename = '%s_%s.fits' % (oid, candid_name)\n",
    "        path = os.path.join(parent_dir, filename)\n",
    "        candid.writeto(path)\n",
    "        print('Saved : %s' % path)"
   ]
  },
  {
   "cell_type": "code",
   "execution_count": 6,
   "metadata": {},
   "outputs": [],
   "source": [
    "def plotStampsData(oid):\n",
    "    detections = client.query_detections(oid=oid, format='pandas')\n",
    "    total_candids=len(detections['candid'])\n",
    "    plotted_candids=0\n",
    "    \n",
    "    for c in detections['candid']:\n",
    "        candid_stamps = client.get_stamps(oid, candid=c)\n",
    "        if candid_stamps != None:\n",
    "            client.plot_stamps(oid, candid=c)\n",
    "            plotted_candids += 1\n",
    "    \n",
    "    print(\"Available candids plotted: %i / %i\" % (plotted_candids, total_candids))"
   ]
  },
  {
   "cell_type": "markdown",
   "metadata": {},
   "source": [
    "We can call ```saveStampsData()``` to save each stamp (with science, reference, and differene images) as a ```.fits``` file in a separate folder."
   ]
  },
  {
   "cell_type": "code",
   "execution_count": 8,
   "metadata": {},
   "outputs": [
    {
     "name": "stdout",
     "output_type": "stream",
     "text": [
      "Saved : ZTF19acymzwg/ZTF19acymzwg_1092553052115015022.fits\n",
      "Saved : ZTF19acymzwg/ZTF19acymzwg_1092572082115015003.fits\n",
      "Saved : ZTF19acymzwg/ZTF19acymzwg_1096516052115015012.fits\n",
      "Saved : ZTF19acymzwg/ZTF19acymzwg_1099527442115015024.fits\n",
      "Saved : ZTF19acymzwg/ZTF19acymzwg_1099554912115015025.fits\n",
      "Saved : ZTF19acymzwg/ZTF19acymzwg_1102557632115015020.fits\n"
     ]
    }
   ],
   "source": [
    "saveStampsData(obj_oid)"
   ]
  },
  {
   "cell_type": "markdown",
   "metadata": {},
   "source": [
    "and let's plot the stamps of our ZTF object, just to see how they look:"
   ]
  },
  {
   "cell_type": "code",
   "execution_count": 7,
   "metadata": {},
   "outputs": [
    {
     "name": "stderr",
     "output_type": "stream",
     "text": [
      "/Users/cxc/anaconda3/lib/python3.8/site-packages/alerce/stamps.py:136: RuntimeWarning: AVRO File not found.\n",
      "  warnings.warn(\"AVRO File not found.\", RuntimeWarning)\n",
      "WARNING: VerifyWarning: Keyword name 'STAMP_TYPE' is greater than 8 characters or contains characters not allowed by the FITS standard; a HIERARCH card will be created. [astropy.io.fits.card]\n"
     ]
    },
    {
     "data": {
      "text/html": [
       "\n",
       "        <div>ZTF oid: ZTF19acymzwg, candid: 1092553052115015022</div>\n",
       "        <div>&emsp;&emsp;&emsp;&emsp;&emsp;\n",
       "        Science\n",
       "        &emsp;&emsp;&emsp;&emsp;&emsp;&emsp;&emsp;&emsp;&emsp;&emsp;&emsp;&emsp;\n",
       "        Template\n",
       "        &emsp;&emsp;&emsp;&emsp;&emsp;&emsp;&emsp;&emsp;&emsp;&emsp;&emsp;&emsp;\n",
       "        Difference\n",
       "        <div class=\"container\">\n",
       "        <div style=\"float:left;width:20%\"><img src=\"https://avro.alerce.online/get_stamp?oid=ZTF19acymzwg&candid=1092553052115015022&type=science&format=png\"></div>\n",
       "        <div style=\"float:left;width:20%\"><img src=\"https://avro.alerce.online/get_stamp?oid=ZTF19acymzwg&candid=1092553052115015022&type=template&format=png\"></div>\n",
       "        <div style=\"float:left;width:20%\"><img src=\"https://avro.alerce.online/get_stamp?oid=ZTF19acymzwg&candid=1092553052115015022&type=difference&format=png\"></div>\n",
       "        </div>\n",
       "        "
      ],
      "text/plain": [
       "<IPython.core.display.HTML object>"
      ]
     },
     "metadata": {},
     "output_type": "display_data"
    },
    {
     "data": {
      "text/html": [
       "\n",
       "        <div>ZTF oid: ZTF19acymzwg, candid: 1092572082115015003</div>\n",
       "        <div>&emsp;&emsp;&emsp;&emsp;&emsp;\n",
       "        Science\n",
       "        &emsp;&emsp;&emsp;&emsp;&emsp;&emsp;&emsp;&emsp;&emsp;&emsp;&emsp;&emsp;\n",
       "        Template\n",
       "        &emsp;&emsp;&emsp;&emsp;&emsp;&emsp;&emsp;&emsp;&emsp;&emsp;&emsp;&emsp;\n",
       "        Difference\n",
       "        <div class=\"container\">\n",
       "        <div style=\"float:left;width:20%\"><img src=\"https://avro.alerce.online/get_stamp?oid=ZTF19acymzwg&candid=1092572082115015003&type=science&format=png\"></div>\n",
       "        <div style=\"float:left;width:20%\"><img src=\"https://avro.alerce.online/get_stamp?oid=ZTF19acymzwg&candid=1092572082115015003&type=template&format=png\"></div>\n",
       "        <div style=\"float:left;width:20%\"><img src=\"https://avro.alerce.online/get_stamp?oid=ZTF19acymzwg&candid=1092572082115015003&type=difference&format=png\"></div>\n",
       "        </div>\n",
       "        "
      ],
      "text/plain": [
       "<IPython.core.display.HTML object>"
      ]
     },
     "metadata": {},
     "output_type": "display_data"
    },
    {
     "data": {
      "text/html": [
       "\n",
       "        <div>ZTF oid: ZTF19acymzwg, candid: 1096516052115015012</div>\n",
       "        <div>&emsp;&emsp;&emsp;&emsp;&emsp;\n",
       "        Science\n",
       "        &emsp;&emsp;&emsp;&emsp;&emsp;&emsp;&emsp;&emsp;&emsp;&emsp;&emsp;&emsp;\n",
       "        Template\n",
       "        &emsp;&emsp;&emsp;&emsp;&emsp;&emsp;&emsp;&emsp;&emsp;&emsp;&emsp;&emsp;\n",
       "        Difference\n",
       "        <div class=\"container\">\n",
       "        <div style=\"float:left;width:20%\"><img src=\"https://avro.alerce.online/get_stamp?oid=ZTF19acymzwg&candid=1096516052115015012&type=science&format=png\"></div>\n",
       "        <div style=\"float:left;width:20%\"><img src=\"https://avro.alerce.online/get_stamp?oid=ZTF19acymzwg&candid=1096516052115015012&type=template&format=png\"></div>\n",
       "        <div style=\"float:left;width:20%\"><img src=\"https://avro.alerce.online/get_stamp?oid=ZTF19acymzwg&candid=1096516052115015012&type=difference&format=png\"></div>\n",
       "        </div>\n",
       "        "
      ],
      "text/plain": [
       "<IPython.core.display.HTML object>"
      ]
     },
     "metadata": {},
     "output_type": "display_data"
    },
    {
     "data": {
      "text/html": [
       "\n",
       "        <div>ZTF oid: ZTF19acymzwg, candid: 1099527442115015024</div>\n",
       "        <div>&emsp;&emsp;&emsp;&emsp;&emsp;\n",
       "        Science\n",
       "        &emsp;&emsp;&emsp;&emsp;&emsp;&emsp;&emsp;&emsp;&emsp;&emsp;&emsp;&emsp;\n",
       "        Template\n",
       "        &emsp;&emsp;&emsp;&emsp;&emsp;&emsp;&emsp;&emsp;&emsp;&emsp;&emsp;&emsp;\n",
       "        Difference\n",
       "        <div class=\"container\">\n",
       "        <div style=\"float:left;width:20%\"><img src=\"https://avro.alerce.online/get_stamp?oid=ZTF19acymzwg&candid=1099527442115015024&type=science&format=png\"></div>\n",
       "        <div style=\"float:left;width:20%\"><img src=\"https://avro.alerce.online/get_stamp?oid=ZTF19acymzwg&candid=1099527442115015024&type=template&format=png\"></div>\n",
       "        <div style=\"float:left;width:20%\"><img src=\"https://avro.alerce.online/get_stamp?oid=ZTF19acymzwg&candid=1099527442115015024&type=difference&format=png\"></div>\n",
       "        </div>\n",
       "        "
      ],
      "text/plain": [
       "<IPython.core.display.HTML object>"
      ]
     },
     "metadata": {},
     "output_type": "display_data"
    },
    {
     "data": {
      "text/html": [
       "\n",
       "        <div>ZTF oid: ZTF19acymzwg, candid: 1099554912115015025</div>\n",
       "        <div>&emsp;&emsp;&emsp;&emsp;&emsp;\n",
       "        Science\n",
       "        &emsp;&emsp;&emsp;&emsp;&emsp;&emsp;&emsp;&emsp;&emsp;&emsp;&emsp;&emsp;\n",
       "        Template\n",
       "        &emsp;&emsp;&emsp;&emsp;&emsp;&emsp;&emsp;&emsp;&emsp;&emsp;&emsp;&emsp;\n",
       "        Difference\n",
       "        <div class=\"container\">\n",
       "        <div style=\"float:left;width:20%\"><img src=\"https://avro.alerce.online/get_stamp?oid=ZTF19acymzwg&candid=1099554912115015025&type=science&format=png\"></div>\n",
       "        <div style=\"float:left;width:20%\"><img src=\"https://avro.alerce.online/get_stamp?oid=ZTF19acymzwg&candid=1099554912115015025&type=template&format=png\"></div>\n",
       "        <div style=\"float:left;width:20%\"><img src=\"https://avro.alerce.online/get_stamp?oid=ZTF19acymzwg&candid=1099554912115015025&type=difference&format=png\"></div>\n",
       "        </div>\n",
       "        "
      ],
      "text/plain": [
       "<IPython.core.display.HTML object>"
      ]
     },
     "metadata": {},
     "output_type": "display_data"
    },
    {
     "data": {
      "text/html": [
       "\n",
       "        <div>ZTF oid: ZTF19acymzwg, candid: 1102557632115015020</div>\n",
       "        <div>&emsp;&emsp;&emsp;&emsp;&emsp;\n",
       "        Science\n",
       "        &emsp;&emsp;&emsp;&emsp;&emsp;&emsp;&emsp;&emsp;&emsp;&emsp;&emsp;&emsp;\n",
       "        Template\n",
       "        &emsp;&emsp;&emsp;&emsp;&emsp;&emsp;&emsp;&emsp;&emsp;&emsp;&emsp;&emsp;\n",
       "        Difference\n",
       "        <div class=\"container\">\n",
       "        <div style=\"float:left;width:20%\"><img src=\"https://avro.alerce.online/get_stamp?oid=ZTF19acymzwg&candid=1102557632115015020&type=science&format=png\"></div>\n",
       "        <div style=\"float:left;width:20%\"><img src=\"https://avro.alerce.online/get_stamp?oid=ZTF19acymzwg&candid=1102557632115015020&type=template&format=png\"></div>\n",
       "        <div style=\"float:left;width:20%\"><img src=\"https://avro.alerce.online/get_stamp?oid=ZTF19acymzwg&candid=1102557632115015020&type=difference&format=png\"></div>\n",
       "        </div>\n",
       "        "
      ],
      "text/plain": [
       "<IPython.core.display.HTML object>"
      ]
     },
     "metadata": {},
     "output_type": "display_data"
    },
    {
     "name": "stdout",
     "output_type": "stream",
     "text": [
      "Available candids plotted: 6 / 8\n"
     ]
    }
   ],
   "source": [
    "plotStampsData(obj_oid)"
   ]
  },
  {
   "cell_type": "code",
   "execution_count": null,
   "metadata": {},
   "outputs": [],
   "source": []
  }
 ],
 "metadata": {
  "kernelspec": {
   "display_name": "Python 3",
   "language": "python",
   "name": "python3"
  },
  "language_info": {
   "codemirror_mode": {
    "name": "ipython",
    "version": 3
   },
   "file_extension": ".py",
   "mimetype": "text/x-python",
   "name": "python",
   "nbconvert_exporter": "python",
   "pygments_lexer": "ipython3",
   "version": "3.8.5"
  }
 },
 "nbformat": 4,
 "nbformat_minor": 4
}
