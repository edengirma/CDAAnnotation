{
 "cells": [
  {
   "cell_type": "code",
   "execution_count": 1,
   "metadata": {},
   "outputs": [],
   "source": [
    "from astropy.table import Table, setdiff\n",
    "from astropy.io.votable import parse_single_table"
   ]
  },
  {
   "cell_type": "code",
   "execution_count": 2,
   "metadata": {},
   "outputs": [
    {
     "data": {
      "text/plain": [
       "<Table length=174548>\n",
       "       name         dtype \n",
       "------------------ -------\n",
       "               oid   str12\n",
       "            meanra float64\n",
       "           meandec float64\n",
       "           sigmara  object\n",
       "          sigmadec  object\n",
       "          firstmjd float64\n",
       "           lastmjd float64\n",
       "              ndet   int64\n",
       "   classifier_name   str16\n",
       "classifier_version   str22\n",
       "        class_name    str8\n",
       "           ranking   int64\n",
       "       probability float64"
      ]
     },
     "execution_count": 2,
     "metadata": {},
     "output_type": "execute_result"
    }
   ],
   "source": [
    "DBvotable = parse_single_table(\"ztf_v4_DB_output.xml\").to_table()\n",
    "\n",
    "DBvotable.info"
   ]
  },
  {
   "cell_type": "code",
   "execution_count": 3,
   "metadata": {},
   "outputs": [
    {
     "data": {
      "text/plain": [
       "<Table length=174548>\n",
       "     name      dtype \n",
       "------------- -------\n",
       "          oid   str12\n",
       "        class    str8\n",
       "   classifier   str16\n",
       "    corrected    bool\n",
       "      deltajd float64\n",
       "     firstmjd float64\n",
       "      g_r_max  object\n",
       " g_r_max_corr  object\n",
       "     g_r_mean  object\n",
       "g_r_mean_corr  object\n",
       "      lastmjd float64\n",
       "      meandec float64\n",
       "       meanra float64\n",
       "   mjdendhist float64\n",
       " mjdstarthist float64\n",
       "     ncovhist   int64\n",
       "         ndet   int64\n",
       "     ndethist    str4\n",
       "  probability float64\n",
       "     sigmadec  object\n",
       "      sigmara  object\n",
       "      stellar    bool\n",
       " step_id_corr   str16"
      ]
     },
     "execution_count": 3,
     "metadata": {},
     "output_type": "execute_result"
    }
   ],
   "source": [
    "APIvotable = parse_single_table(\"ztf_API_output.xml\").to_table()\n",
    "\n",
    "APIvotable.info"
   ]
  },
  {
   "cell_type": "code",
   "execution_count": 4,
   "metadata": {},
   "outputs": [
    {
     "name": "stdout",
     "output_type": "stream",
     "text": [
      "{True}\n"
     ]
    }
   ],
   "source": [
    "# Check that the OIDs of each row in the API table are identical to that of the corresponding row in the DB table\n",
    "print(set(APIvotable['oid']==DBvotable['oid']))"
   ]
  },
  {
   "cell_type": "code",
   "execution_count": null,
   "metadata": {},
   "outputs": [],
   "source": []
  }
 ],
 "metadata": {
  "kernelspec": {
   "display_name": "Python 3",
   "language": "python",
   "name": "python3"
  },
  "language_info": {
   "codemirror_mode": {
    "name": "ipython",
    "version": 3
   },
   "file_extension": ".py",
   "mimetype": "text/x-python",
   "name": "python",
   "nbconvert_exporter": "python",
   "pygments_lexer": "ipython3",
   "version": "3.8.5"
  }
 },
 "nbformat": 4,
 "nbformat_minor": 4
}
