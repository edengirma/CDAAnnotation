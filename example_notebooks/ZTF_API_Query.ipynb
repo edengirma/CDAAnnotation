{
 "cells": [
  {
   "cell_type": "markdown",
   "metadata": {},
   "source": [
    "# Querying the ZTF ALeRCE Python client\n",
    "```Author: Eden Girma, Last updated 20210422```"
   ]
  },
  {
   "cell_type": "markdown",
   "metadata": {},
   "source": [
    "# Table of contents:\n",
    "* [Setting up ALeRCE Python client](#setup)\n",
    "* [Querying objects from the day before](#query)\n",
    "* [Understanding retrieved object data](#data)\n",
    "* [Exporting data to .xml](#export)"
   ]
  },
  {
   "cell_type": "markdown",
   "metadata": {},
   "source": [
    "**Goal:**\n",
    " \n",
    "1) To query the ALeRCE database for objects with the following attributes:\n",
    "* detected 24 - 48 hours from the current time\n",
    "* classified by the stamp classifier (version 1.0.4)\n",
    "\n",
    "2) To return a table consisting of ALeRCE alert objects that includes, per row:\n",
    "* aggregated detection properties per object (e.g. mean RA/Dec, number of detections)\n",
    "* probability of the highest ranking class assigned by the stamp classifier (v1.0.4)"
   ]
  },
  {
   "cell_type": "code",
   "execution_count": 2,
   "metadata": {},
   "outputs": [],
   "source": [
    "import sys\n",
    "\n",
    "# Packages for direct database access\n",
    "# %pip install psycopg2\n",
    "import psycopg2\n",
    "import json\n",
    "\n",
    "# Packages for data and number handling\n",
    "import numpy as np\n",
    "import pandas as pd\n",
    "import math\n",
    "\n",
    "# Packages for calculating current time and extracting ZTF data to VOTable\n",
    "from astropy.time import Time\n",
    "from astropy.table import Table, unique, vstack\n",
    "from astropy.io.votable import from_table, writeto\n",
    "from datetime import datetime\n",
    "\n",
    "# Packages for display and data plotting, if desired\n",
    "from IPython.display import HTML\n",
    "from IPython.display import display\n",
    "import matplotlib.pyplot as plt\n",
    "%matplotlib inline"
   ]
  },
  {
   "cell_type": "markdown",
   "metadata": {},
   "source": [
    "## Setting up ALeRCE Python client <a class=\"anchor\" id=\"setup\"></a>"
   ]
  },
  {
   "cell_type": "code",
   "execution_count": 3,
   "metadata": {},
   "outputs": [],
   "source": [
    "# Set up ALeRCE python client\n",
    "from alerce.core import Alerce\n",
    "client = Alerce()"
   ]
  },
  {
   "cell_type": "markdown",
   "metadata": {},
   "source": [
    "## Querying objects from between 24 - 48 hrs ago <a class=\"anchor\" id=\"query\"></a>"
   ]
  },
  {
   "cell_type": "markdown",
   "metadata": {},
   "source": [
    "We will retrieve these objects per class, first by building a function that uses the ALeRCE client to query objects according to stamp classifier predictions.\n",
    "\n",
    "Note that according to the ZTF API (```ztf-api/api/sql/astro_object/astro_object.py```), the default ranking for ```query_objects``` when ranking is not specified is 1:"
   ]
  },
  {
   "cell_type": "markdown",
   "metadata": {},
   "source": [
    " ``` \n",
    "[...]\n",
    "\n",
    "def _parse_filters(self, args):\n",
    "    (\n",
    "        classifier,\n",
    "        classifier_version,\n",
    "        class_,\n",
    "        ndet,\n",
    "        firstmjd,\n",
    "        lastmjd,\n",
    "        probability,\n",
    "        ranking,\n",
    "        oids,\n",
    "    ) = (True, True, True, True, True, True, True, True, True)\n",
    "    if args[\"classifier\"]:\n",
    "        classifier = models.Probability.classifier_name == args[\"classifier\"]\n",
    "    if args[\"class\"]:\n",
    "        class_ = models.Probability.class_name == args[\"class\"]\n",
    "    \n",
    "    [...]\n",
    "    \n",
    "    if args[\"ranking\"]:\n",
    "        ranking = models.Probability.ranking == args[\"ranking\"]\n",
    "    elif not args[\"ranking\"] and (\n",
    "        args[\"classifier\"] or args[\"class\"] or args[\"classifier_version\"]\n",
    "    ):\n",
    "        # Default ranking 1\n",
    "        ranking = models.Probability.ranking == 1\n",
    "\n",
    "```"
   ]
  },
  {
   "cell_type": "code",
   "execution_count": 5,
   "metadata": {},
   "outputs": [],
   "source": [
    "# Define function that queries objects according to class\n",
    "def query_class_objects(cn, min_lastmjd, max_lastmjd):\n",
    "    objects = client.query_objects(classifier = 'stamp_classifier',\n",
    "                                   classifier_version = 'stamp_classifier_1.0.4',\n",
    "                                   class_name = cn,\n",
    "                                   lastmjd = [min_lastmjd, max_lastmjd],\n",
    "                                   page_size = int(1e6),\n",
    "                                   format='votable')\n",
    "    return objects"
   ]
  },
  {
   "cell_type": "code",
   "execution_count": 13,
   "metadata": {},
   "outputs": [
    {
     "name": "stdout",
     "output_type": "stream",
     "text": [
      "Class queried: AGN\n",
      "Class queried: SN\n",
      "Class queried: VS\n",
      "Class queried: asteroid\n",
      "Class queried: bogus\n",
      "Done.\n"
     ]
    }
   ],
   "source": [
    "# Querying the ALeRCE client for objects detected 24 - 48 hours from the current time, over a range of classes\n",
    "\n",
    "min_lastmjd = Time(datetime.today(), scale='utc').mjd - 2\n",
    "max_lastmjd = Time(datetime.today(), scale='utc').mjd - 1\n",
    "classes = [\"AGN\", \"SN\", \"VS\", \"asteroid\", \"bogus\"]\n",
    "objects = Table()\n",
    "\n",
    "for class_name in classes:\n",
    "    class_objects = query_class_objects(class_name, min_lastmjd, max_lastmjd)\n",
    "    if class_name == classes[0]:\n",
    "        objects = class_objects\n",
    "    else:\n",
    "        objects = vstack([objects, class_objects])\n",
    "    \n",
    "    print('Class queried: %s' % (class_name))\n",
    "    \n",
    "    if class_name == classes[-1]:\n",
    "        print('Done.')"
   ]
  },
  {
   "cell_type": "markdown",
   "metadata": {},
   "source": [
    "Note that when we specify a ```votable``` format, the output of our ```query_objects``` is an  ```astropy.table.table.Table``` object:"
   ]
  },
  {
   "cell_type": "code",
   "execution_count": 14,
   "metadata": {},
   "outputs": [
    {
     "name": "stdout",
     "output_type": "stream",
     "text": [
      "<class 'astropy.table.table.Table'>\n"
     ]
    }
   ],
   "source": [
    "print(type(objects))"
   ]
  },
  {
   "cell_type": "markdown",
   "metadata": {},
   "source": [
    "We can also re-order and sort the resulting table, depending on how we want the final exported information to be organized."
   ]
  },
  {
   "cell_type": "code",
   "execution_count": 18,
   "metadata": {},
   "outputs": [],
   "source": [
    "# Re-ordering votable so that the 'OID' column is in the front\n",
    "nc = ['oid'] + [c for c in objects.columns if c != 'oid']\n",
    "objects = objects[nc]\n",
    "\n",
    "# Sort objects by lastmjd, first mjd, then oid, all in descending order\n",
    "objects.sort(['lastmjd','firstmjd', 'oid'])\n",
    "objects = objects[::-1]"
   ]
  },
  {
   "cell_type": "markdown",
   "metadata": {},
   "source": [
    "Below we'll see the total number of entries and names of each column in the data table."
   ]
  },
  {
   "cell_type": "code",
   "execution_count": 15,
   "metadata": {},
   "outputs": [
    {
     "data": {
      "text/plain": [
       "<Table length=174548>\n",
       "     name      dtype \n",
       "------------- -------\n",
       "        class    str8\n",
       "   classifier   str16\n",
       "    corrected    bool\n",
       "      deltajd float64\n",
       "     firstmjd float64\n",
       "      g_r_max  object\n",
       " g_r_max_corr  object\n",
       "     g_r_mean  object\n",
       "g_r_mean_corr  object\n",
       "      lastmjd float64\n",
       "      meandec float64\n",
       "       meanra float64\n",
       "   mjdendhist float64\n",
       " mjdstarthist float64\n",
       "     ncovhist   int64\n",
       "         ndet   int64\n",
       "     ndethist    str4\n",
       "          oid   str12\n",
       "  probability float64\n",
       "     sigmadec  object\n",
       "      sigmara  object\n",
       "      stellar    bool\n",
       " step_id_corr   str16"
      ]
     },
     "execution_count": 15,
     "metadata": {},
     "output_type": "execute_result"
    }
   ],
   "source": [
    "objects.info"
   ]
  },
  {
   "cell_type": "markdown",
   "metadata": {},
   "source": [
    "## Understanding retrieved object data <a class=\"anchor\" id=\"data\"></a>"
   ]
  },
  {
   "cell_type": "markdown",
   "metadata": {},
   "source": [
    "To quickly get a sense of what we're looking at, let's print out the first 5 rows of our table:"
   ]
  },
  {
   "cell_type": "code",
   "execution_count": 30,
   "metadata": {
    "scrolled": true
   },
   "outputs": [
    {
     "data": {
      "text/html": [
       "<i>Table length=5</i>\n",
       "<table id=\"table140659275700496\" class=\"table-striped table-bordered table-condensed\">\n",
       "<thead><tr><th>oid</th><th>class</th><th>classifier</th><th>corrected</th><th>deltajd</th><th>firstmjd</th><th>g_r_max</th><th>g_r_max_corr</th><th>g_r_mean</th><th>g_r_mean_corr</th><th>lastmjd</th><th>meandec</th><th>meanra</th><th>mjdendhist</th><th>mjdstarthist</th><th>ncovhist</th><th>ndet</th><th>ndethist</th><th>probability</th><th>sigmadec</th><th>sigmara</th><th>stellar</th><th>step_id_corr</th></tr></thead>\n",
       "<thead><tr><th>str12</th><th>str8</th><th>str16</th><th>bool</th><th>float64</th><th>float64</th><th>object</th><th>object</th><th>object</th><th>object</th><th>float64</th><th>float64</th><th>float64</th><th>float64</th><th>float64</th><th>int64</th><th>int64</th><th>str4</th><th>float64</th><th>object</th><th>object</th><th>bool</th><th>str16</th></tr></thead>\n",
       "<tr><td>ZTF21aaxbzdg</td><td>bogus</td><td>stamp_classifier</td><td>False</td><td>0.0</td><td>59325.50875000004</td><td>None</td><td>None</td><td>None</td><td>None</td><td>59325.50875000004</td><td>41.9033927</td><td>351.7398069</td><td>59325.50875000004</td><td>58507.158391200006</td><td>1213</td><td>1</td><td>8</td><td>0.6109096</td><td>None</td><td>None</td><td>False</td><td>correction_0.0.1</td></tr>\n",
       "<tr><td>ZTF21aaxbzdb</td><td>bogus</td><td>stamp_classifier</td><td>False</td><td>0.0</td><td>59325.50875000004</td><td>None</td><td>None</td><td>None</td><td>None</td><td>59325.50875000004</td><td>40.7263525</td><td>352.3253321</td><td>59325.50875000004</td><td>59325.50875000004</td><td>1368</td><td>1</td><td>4</td><td>0.7413783</td><td>None</td><td>None</td><td>False</td><td>correction_0.0.1</td></tr>\n",
       "<tr><td>ZTF21aaxbzda</td><td>bogus</td><td>stamp_classifier</td><td>False</td><td>0.0</td><td>59325.50875000004</td><td>None</td><td>None</td><td>None</td><td>None</td><td>59325.50875000004</td><td>40.7264833</td><td>352.3256025</td><td>59325.50875000004</td><td>58767.27603009995</td><td>1368</td><td>1</td><td>5</td><td>0.66656053</td><td>None</td><td>None</td><td>False</td><td>correction_0.0.1</td></tr>\n",
       "<tr><td>ZTF21aaxbzcz</td><td>bogus</td><td>stamp_classifier</td><td>False</td><td>0.0</td><td>59325.50875000004</td><td>None</td><td>None</td><td>None</td><td>None</td><td>59325.50875000004</td><td>40.7264797</td><td>352.3255966</td><td>59325.50875000004</td><td>58767.27603009995</td><td>1368</td><td>1</td><td>5</td><td>0.6658804</td><td>None</td><td>None</td><td>False</td><td>correction_0.0.1</td></tr>\n",
       "<tr><td>ZTF21aaxbzcl</td><td>bogus</td><td>stamp_classifier</td><td>False</td><td>0.0</td><td>59325.50875000004</td><td>None</td><td>None</td><td>None</td><td>None</td><td>59325.50875000004</td><td>37.5465427</td><td>353.4647511</td><td>59325.50875000004</td><td>58854.13714119978</td><td>1378</td><td>1</td><td>2</td><td>0.7857003</td><td>None</td><td>None</td><td>False</td><td>correction_0.0.1</td></tr>\n",
       "</table>"
      ],
      "text/plain": [
       "<Table length=5>\n",
       "    oid      class    classifier    ... sigmara stellar   step_id_corr  \n",
       "   str12      str8      str16       ...  object   bool       str16      \n",
       "------------ ----- ---------------- ... ------- ------- ----------------\n",
       "ZTF21aaxbzdg bogus stamp_classifier ...    None   False correction_0.0.1\n",
       "ZTF21aaxbzdb bogus stamp_classifier ...    None   False correction_0.0.1\n",
       "ZTF21aaxbzda bogus stamp_classifier ...    None   False correction_0.0.1\n",
       "ZTF21aaxbzcz bogus stamp_classifier ...    None   False correction_0.0.1\n",
       "ZTF21aaxbzcl bogus stamp_classifier ...    None   False correction_0.0.1"
      ]
     },
     "execution_count": 30,
     "metadata": {},
     "output_type": "execute_result"
    }
   ],
   "source": [
    "objects[0:5]"
   ]
  },
  {
   "cell_type": "markdown",
   "metadata": {},
   "source": [
    "The following prints out the number of OIDs that correspond to each class name:"
   ]
  },
  {
   "cell_type": "code",
   "execution_count": 26,
   "metadata": {},
   "outputs": [
    {
     "name": "stdout",
     "output_type": "stream",
     "text": [
      "AGN : 18564\n",
      "SN : 1001\n",
      "VS : 106670\n",
      "asteroid : 26262\n",
      "bogus : 22051\n"
     ]
    }
   ],
   "source": [
    "obj_classes = objects.group_by('class')\n",
    "for key, group in zip(obj_classes.groups.keys, obj_classes.groups):\n",
    "    l = len(group)\n",
    "    print('%s : %i' % (key['class'], l))"
   ]
  },
  {
   "cell_type": "markdown",
   "metadata": {},
   "source": [
    "We can double check to see if there are some rows with duplicate OIDs (though there shouldn't be!)"
   ]
  },
  {
   "cell_type": "code",
   "execution_count": 16,
   "metadata": {},
   "outputs": [
    {
     "name": "stdout",
     "output_type": "stream",
     "text": [
      "Number of duplicate OIDs: 0\n"
     ]
    }
   ],
   "source": [
    "# Identify duplicate OID entries - rows with same OID but different classes and probabilities\n",
    "obsgroup = objects.group_by(['oid'])\n",
    "duplicates = []\n",
    "for key, group in zip(obsgroup.groups.keys, obsgroup.groups):\n",
    "    if len(group) > 1:\n",
    "        oid = group['oid'][1]\n",
    "        duplicates.append(oid)\n",
    "\n",
    "print('Number of duplicate OIDs: %i' % (len(duplicates)))\n",
    "\n",
    "# Print example rows with duplicate OIDs\n",
    "if len(duplicates) > 0:\n",
    "    oid = duplicates[0]\n",
    "    mask = (objects['oid'] == oid)\n",
    "    objects[mask]"
   ]
  },
  {
   "cell_type": "markdown",
   "metadata": {},
   "source": [
    "## Exporting data to .xml <a class=\"anchor\" id=\"export\"></a>"
   ]
  },
  {
   "cell_type": "markdown",
   "metadata": {},
   "source": [
    "```astropy``` offers a simple method in which to export their Table object as an .xml file:"
   ]
  },
  {
   "cell_type": "code",
   "execution_count": 31,
   "metadata": {},
   "outputs": [],
   "source": [
    "# Export our queried objects table to an .xml file\n",
    "writeto(objects, \"ztf_API_output.xml\")"
   ]
  },
  {
   "cell_type": "code",
   "execution_count": null,
   "metadata": {},
   "outputs": [],
   "source": []
  }
 ],
 "metadata": {
  "kernelspec": {
   "display_name": "Python 3",
   "language": "python",
   "name": "python3"
  },
  "language_info": {
   "codemirror_mode": {
    "name": "ipython",
    "version": 3
   },
   "file_extension": ".py",
   "mimetype": "text/x-python",
   "name": "python",
   "nbconvert_exporter": "python",
   "pygments_lexer": "ipython3",
   "version": "3.8.5"
  }
 },
 "nbformat": 4,
 "nbformat_minor": 4
}
