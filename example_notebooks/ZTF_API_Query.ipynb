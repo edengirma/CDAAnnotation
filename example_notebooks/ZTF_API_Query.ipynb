{
 "cells": [
  {
   "cell_type": "markdown",
   "metadata": {},
   "source": [
    "# Querying the ZTF ALeRCE Python client\n",
    "```Author: Eden Girma, Last updated 20210422```"
   ]
  },
  {
   "cell_type": "markdown",
   "metadata": {},
   "source": [
    "# Table of contents:\n",
    "* [Setting up ALeRCE Python client](#setup)\n",
    "* [Querying objects from the past 12 hr](#query)\n",
    "* [Understanding retrieved object data](#data)\n",
    "* [Exporting data to .xml](#export)"
   ]
  },
  {
   "cell_type": "code",
   "execution_count": 1,
   "metadata": {},
   "outputs": [],
   "source": [
    "import sys\n",
    "\n",
    "# Packages for direct database access\n",
    "# %pip install psycopg2\n",
    "import psycopg2\n",
    "import json\n",
    "\n",
    "# Packages for data and number handling\n",
    "import numpy as np\n",
    "import pandas as pd\n",
    "import math\n",
    "\n",
    "# Packages for calculating current time and extracting ZTF data to VOTable\n",
    "from astropy.time import Time\n",
    "from astropy.table import Table, unique\n",
    "from astropy.io.votable import from_table, writeto\n",
    "from datetime import datetime\n",
    "\n",
    "# Packages for display and data plotting, if desired\n",
    "from IPython.display import HTML\n",
    "from IPython.display import display\n",
    "import matplotlib.pyplot as plt\n",
    "%matplotlib inline"
   ]
  },
  {
   "cell_type": "markdown",
   "metadata": {},
   "source": [
    "## Setting up ALeRCE Python client <a class=\"anchor\" id=\"setup\"></a>"
   ]
  },
  {
   "cell_type": "code",
   "execution_count": 2,
   "metadata": {},
   "outputs": [],
   "source": [
    "# Set up ALeRCE python client\n",
    "from alerce.core import Alerce\n",
    "client = Alerce()"
   ]
  },
  {
   "cell_type": "markdown",
   "metadata": {},
   "source": [
    "## Querying objects from the past 12 hr <a class=\"anchor\" id=\"query\"></a>"
   ]
  },
  {
   "cell_type": "code",
   "execution_count": 5,
   "metadata": {},
   "outputs": [],
   "source": [
    "# Querying the ALeRCE client for objects detected within the past 12 hours\n",
    "min_lastmjd = Time(datetime.today(), scale='utc').mjd - 1\n",
    "\n",
    "objects = client.query_objects(lastmjd = [min_lastmjd, None],\n",
    "                           page_size = int(1e6),\n",
    "                           format='votable')"
   ]
  },
  {
   "cell_type": "markdown",
   "metadata": {},
   "source": [
    "Note that when we specify a ```votable``` format, the output of our ```query_objects``` is an  ```astropy.table.table.Table``` object:"
   ]
  },
  {
   "cell_type": "code",
   "execution_count": 6,
   "metadata": {},
   "outputs": [
    {
     "name": "stdout",
     "output_type": "stream",
     "text": [
      "<class 'astropy.table.table.Table'>\n"
     ]
    }
   ],
   "source": [
    "print(type(objects))"
   ]
  },
  {
   "cell_type": "markdown",
   "metadata": {},
   "source": [
    "We can also re-order and sort the resulting table, depending on how we want the final exported information to be organized."
   ]
  },
  {
   "cell_type": "code",
   "execution_count": 7,
   "metadata": {},
   "outputs": [],
   "source": [
    "# Re-ordering votable so that the 'OID' column is in the front\n",
    "nc = ['oid'] + [c for c in objects.columns if c != 'oid']\n",
    "objects = objects[nc]\n",
    "\n",
    "# Sort objects by lastmjd then first mjd, in descending order\n",
    "objects.sort(['lastmjd','firstmjd'])\n",
    "objects = objects[::-1]"
   ]
  },
  {
   "cell_type": "markdown",
   "metadata": {},
   "source": [
    "## Understanding retrieved object data <a class=\"anchor\" id=\"data\"></a>"
   ]
  },
  {
   "cell_type": "markdown",
   "metadata": {},
   "source": [
    "To quickly get a sense of what we're looking at, let's print out the first 5 rows of our table:"
   ]
  },
  {
   "cell_type": "code",
   "execution_count": 8,
   "metadata": {},
   "outputs": [
    {
     "data": {
      "text/html": [
       "<i>Table length=5</i>\n",
       "<table id=\"table140395688770768\" class=\"table-striped table-bordered table-condensed\">\n",
       "<thead><tr><th>oid</th><th>class</th><th>classifier</th><th>corrected</th><th>deltajd</th><th>firstmjd</th><th>g_r_max</th><th>g_r_max_corr</th><th>g_r_mean</th><th>g_r_mean_corr</th><th>lastmjd</th><th>meandec</th><th>meanra</th><th>mjdendhist</th><th>mjdstarthist</th><th>ncovhist</th><th>ndet</th><th>ndethist</th><th>probability</th><th>sigmadec</th><th>sigmara</th><th>stellar</th><th>step_id_corr</th></tr></thead>\n",
       "<thead><tr><th>str12</th><th>object</th><th>object</th><th>bool</th><th>float64</th><th>float64</th><th>object</th><th>object</th><th>object</th><th>object</th><th>float64</th><th>float64</th><th>float64</th><th>float64</th><th>float64</th><th>int64</th><th>int64</th><th>str4</th><th>object</th><th>object</th><th>object</th><th>bool</th><th>str16</th></tr></thead>\n",
       "<tr><td>ZTF21aaxbzdb</td><td>None</td><td>None</td><td>False</td><td>0.0</td><td>59325.50875000004</td><td>None</td><td>None</td><td>None</td><td>None</td><td>59325.50875000004</td><td>40.7263525</td><td>352.3253321</td><td>59325.50875000004</td><td>59325.50875000004</td><td>1368</td><td>1</td><td>4</td><td>None</td><td>None</td><td>None</td><td>False</td><td>correction_0.0.1</td></tr>\n",
       "<tr><td>ZTF21aaxbzcz</td><td>None</td><td>None</td><td>False</td><td>0.0</td><td>59325.50875000004</td><td>None</td><td>None</td><td>None</td><td>None</td><td>59325.50875000004</td><td>40.7264797</td><td>352.3255966</td><td>59325.50875000004</td><td>58767.27603009995</td><td>1368</td><td>1</td><td>5</td><td>None</td><td>None</td><td>None</td><td>False</td><td>correction_0.0.1</td></tr>\n",
       "<tr><td>ZTF21aaxbzdg</td><td>None</td><td>None</td><td>False</td><td>0.0</td><td>59325.50875000004</td><td>None</td><td>None</td><td>None</td><td>None</td><td>59325.50875000004</td><td>41.9033927</td><td>351.7398069</td><td>59325.50875000004</td><td>58507.158391200006</td><td>1213</td><td>1</td><td>8</td><td>None</td><td>None</td><td>None</td><td>False</td><td>correction_0.0.1</td></tr>\n",
       "<tr><td>ZTF21aaxbzcl</td><td>None</td><td>None</td><td>False</td><td>0.0</td><td>59325.50875000004</td><td>None</td><td>None</td><td>None</td><td>None</td><td>59325.50875000004</td><td>37.5465427</td><td>353.4647511</td><td>59325.50875000004</td><td>58854.13714119978</td><td>1378</td><td>1</td><td>2</td><td>None</td><td>None</td><td>None</td><td>False</td><td>correction_0.0.1</td></tr>\n",
       "<tr><td>ZTF21aaxbzch</td><td>None</td><td>None</td><td>False</td><td>0.0</td><td>59325.50875000004</td><td>None</td><td>None</td><td>None</td><td>None</td><td>59325.50875000004</td><td>42.0446682</td><td>356.995874</td><td>59325.50875000004</td><td>59325.50875000004</td><td>1385</td><td>1</td><td>1</td><td>None</td><td>None</td><td>None</td><td>False</td><td>correction_0.0.1</td></tr>\n",
       "</table>"
      ],
      "text/plain": [
       "<Table length=5>\n",
       "    oid      class  classifier corrected ... sigmara stellar   step_id_corr  \n",
       "   str12     object   object      bool   ...  object   bool       str16      \n",
       "------------ ------ ---------- --------- ... ------- ------- ----------------\n",
       "ZTF21aaxbzdb   None       None     False ...    None   False correction_0.0.1\n",
       "ZTF21aaxbzcz   None       None     False ...    None   False correction_0.0.1\n",
       "ZTF21aaxbzdg   None       None     False ...    None   False correction_0.0.1\n",
       "ZTF21aaxbzcl   None       None     False ...    None   False correction_0.0.1\n",
       "ZTF21aaxbzch   None       None     False ...    None   False correction_0.0.1"
      ]
     },
     "execution_count": 8,
     "metadata": {},
     "output_type": "execute_result"
    }
   ],
   "source": [
    "objects[0:5]"
   ]
  },
  {
   "cell_type": "markdown",
   "metadata": {},
   "source": [
    "Below we'll see the total number of entries and names of each column in the data table."
   ]
  },
  {
   "cell_type": "code",
   "execution_count": 9,
   "metadata": {},
   "outputs": [
    {
     "data": {
      "text/plain": [
       "<Table length=78472>\n",
       "     name      dtype \n",
       "------------- -------\n",
       "          oid   str12\n",
       "        class  object\n",
       "   classifier  object\n",
       "    corrected    bool\n",
       "      deltajd float64\n",
       "     firstmjd float64\n",
       "      g_r_max  object\n",
       " g_r_max_corr  object\n",
       "     g_r_mean  object\n",
       "g_r_mean_corr  object\n",
       "      lastmjd float64\n",
       "      meandec float64\n",
       "       meanra float64\n",
       "   mjdendhist float64\n",
       " mjdstarthist float64\n",
       "     ncovhist   int64\n",
       "         ndet   int64\n",
       "     ndethist    str4\n",
       "  probability  object\n",
       "     sigmadec  object\n",
       "      sigmara  object\n",
       "      stellar    bool\n",
       " step_id_corr   str16"
      ]
     },
     "execution_count": 9,
     "metadata": {},
     "output_type": "execute_result"
    }
   ],
   "source": [
    "objects.info"
   ]
  },
  {
   "cell_type": "markdown",
   "metadata": {},
   "source": [
    "A note: there are some entries that correspond to objects which haven't yet been classified. We know this as their ```class```, ```classifier```, and ```probability``` attributes are all equal to ```None```."
   ]
  },
  {
   "cell_type": "code",
   "execution_count": 10,
   "metadata": {},
   "outputs": [
    {
     "data": {
      "text/html": [
       "<i>Row index=0</i>\n",
       "<table id=\"table140395688849216\">\n",
       "<thead><tr><th>oid</th><th>class</th><th>classifier</th><th>corrected</th><th>deltajd</th><th>firstmjd</th><th>g_r_max</th><th>g_r_max_corr</th><th>g_r_mean</th><th>g_r_mean_corr</th><th>lastmjd</th><th>meandec</th><th>meanra</th><th>mjdendhist</th><th>mjdstarthist</th><th>ncovhist</th><th>ndet</th><th>ndethist</th><th>probability</th><th>sigmadec</th><th>sigmara</th><th>stellar</th><th>step_id_corr</th></tr></thead>\n",
       "<thead><tr><th>str12</th><th>object</th><th>object</th><th>bool</th><th>float64</th><th>float64</th><th>object</th><th>object</th><th>object</th><th>object</th><th>float64</th><th>float64</th><th>float64</th><th>float64</th><th>float64</th><th>int64</th><th>int64</th><th>str4</th><th>object</th><th>object</th><th>object</th><th>bool</th><th>str16</th></tr></thead>\n",
       "<tr><td>ZTF21aaxbzdb</td><td>None</td><td>None</td><td>False</td><td>0.0</td><td>59325.50875000004</td><td>None</td><td>None</td><td>None</td><td>None</td><td>59325.50875000004</td><td>40.7263525</td><td>352.3253321</td><td>59325.50875000004</td><td>59325.50875000004</td><td>1368</td><td>1</td><td>4</td><td>None</td><td>None</td><td>None</td><td>False</td><td>correction_0.0.1</td></tr>\n",
       "</table>"
      ],
      "text/plain": [
       "<Row index=0>\n",
       "    oid      class  classifier corrected deltajd      firstmjd     g_r_max g_r_max_corr g_r_mean g_r_mean_corr      lastmjd       meandec      meanra       mjdendhist       mjdstarthist   ncovhist  ndet ndethist probability sigmadec sigmara stellar   step_id_corr  \n",
       "   str12     object   object      bool   float64      float64       object    object     object      object         float64       float64     float64        float64           float64       int64   int64   str4      object    object   object   bool       str16      \n",
       "------------ ------ ---------- --------- ------- ----------------- ------- ------------ -------- ------------- ----------------- ---------- ----------- ----------------- ----------------- -------- ----- -------- ----------- -------- ------- ------- ----------------\n",
       "ZTF21aaxbzdb   None       None     False     0.0 59325.50875000004    None         None     None          None 59325.50875000004 40.7263525 352.3253321 59325.50875000004 59325.50875000004     1368     1        4        None     None    None   False correction_0.0.1"
      ]
     },
     "execution_count": 10,
     "metadata": {},
     "output_type": "execute_result"
    }
   ],
   "source": [
    "none_indices=[]\n",
    "\n",
    "for i, c in enumerate(objects['probability']):\n",
    "    if c == None:\n",
    "        none_indices.append(i)\n",
    "\n",
    "# Example row of an object with 'None' values:\n",
    "idx = none_indices[0]\n",
    "objects[idx]"
   ]
  },
  {
   "cell_type": "markdown",
   "metadata": {},
   "source": [
    "There can also be some rows with duplicate OIDs:"
   ]
  },
  {
   "cell_type": "code",
   "execution_count": 11,
   "metadata": {},
   "outputs": [
    {
     "name": "stdout",
     "output_type": "stream",
     "text": [
      "Number of duplicate OIDs: 101\n"
     ]
    },
    {
     "data": {
      "text/html": [
       "<i>Table length=2</i>\n",
       "<table id=\"table140395355550192\" class=\"table-striped table-bordered table-condensed\">\n",
       "<thead><tr><th>oid</th><th>class</th><th>classifier</th><th>corrected</th><th>deltajd</th><th>firstmjd</th><th>g_r_max</th><th>g_r_max_corr</th><th>g_r_mean</th><th>g_r_mean_corr</th><th>lastmjd</th><th>meandec</th><th>meanra</th><th>mjdendhist</th><th>mjdstarthist</th><th>ncovhist</th><th>ndet</th><th>ndethist</th><th>probability</th><th>sigmadec</th><th>sigmara</th><th>stellar</th><th>step_id_corr</th></tr></thead>\n",
       "<thead><tr><th>str12</th><th>object</th><th>object</th><th>bool</th><th>float64</th><th>float64</th><th>object</th><th>object</th><th>object</th><th>object</th><th>float64</th><th>float64</th><th>float64</th><th>float64</th><th>float64</th><th>int64</th><th>int64</th><th>str4</th><th>object</th><th>object</th><th>object</th><th>bool</th><th>str16</th></tr></thead>\n",
       "<tr><td>ZTF17aaaeart</td><td>RRL</td><td>lc_classifier</td><td>True</td><td>1043.0584028000012</td><td>58282.42708329996</td><td>0.622361</td><td>0.516841</td><td>0.4271347</td><td>0.45453137</td><td>59325.48548609996</td><td>48.02049198565122</td><td>335.263424599117</td><td>59325.48548609996</td><td>58101.119618100114</td><td>1247</td><td>453</td><td>546</td><td>0.224016</td><td>9.188696327157331e-05</td><td>0.00010688339378160483</td><td>True</td><td>correction_0.0.1</td></tr>\n",
       "<tr><td>ZTF17aaaeart</td><td>E</td><td>lc_classifier</td><td>True</td><td>1043.0584028000012</td><td>58282.42708329996</td><td>0.622361</td><td>0.516841</td><td>0.4271347</td><td>0.45453137</td><td>59325.48548609996</td><td>48.02049198565122</td><td>335.263424599117</td><td>59325.48548609996</td><td>58101.119618100114</td><td>1247</td><td>453</td><td>546</td><td>0.224016</td><td>9.188696327157331e-05</td><td>0.00010688339378160483</td><td>True</td><td>correction_0.0.1</td></tr>\n",
       "</table>"
      ],
      "text/plain": [
       "<Table length=2>\n",
       "    oid      class    classifier  ... stellar   step_id_corr  \n",
       "   str12     object     object    ...   bool       str16      \n",
       "------------ ------ ------------- ... ------- ----------------\n",
       "ZTF17aaaeart    RRL lc_classifier ...    True correction_0.0.1\n",
       "ZTF17aaaeart      E lc_classifier ...    True correction_0.0.1"
      ]
     },
     "execution_count": 11,
     "metadata": {},
     "output_type": "execute_result"
    }
   ],
   "source": [
    "# Identify duplicate OID entries - rows with same OID but different classes and probabilities\n",
    "obsgroup = objects.group_by(['oid'])\n",
    "duplicates = []\n",
    "for key, group in zip(obsgroup.groups.keys, obsgroup.groups):\n",
    "    if len(group) > 1:\n",
    "        oid = group['oid'][1]\n",
    "        duplicates.append(oid)\n",
    "\n",
    "print('Number of duplicate OIDs: %i' % (len(duplicates)))\n",
    "\n",
    "# Print example rows with duplicate OIDs\n",
    "oid = duplicates[0]\n",
    "mask = (objects['oid'] == oid)\n",
    "objects[mask]"
   ]
  },
  {
   "cell_type": "markdown",
   "metadata": {},
   "source": [
    "However it seems that these duplicate cases occur with objects that are classified as having the same probability in different classes."
   ]
  },
  {
   "cell_type": "code",
   "execution_count": 14,
   "metadata": {},
   "outputs": [
    {
     "name": "stdout",
     "output_type": "stream",
     "text": [
      "All duplicate cases have the same probability in 2 or more classes.\n"
     ]
    }
   ],
   "source": [
    "same_probability = True\n",
    "\n",
    "for oid in duplicates:\n",
    "    mask = (objects['oid']==oid)\n",
    "    c = [c for c in objects[mask]['class']]\n",
    "    p = [c for c in objects[mask]['probability']]\n",
    "    \n",
    "    if all(el == p[0] for el in p):\n",
    "        if oid == duplicates[-1]:\n",
    "            if same_probability:\n",
    "                print('All duplicate cases have the same probability in 2 or more classes.')\n",
    "        continue\n",
    "    else:\n",
    "        print('OID: %s' % (oid))\n",
    "        print('Classes: %i' % (c))\n",
    "        print('Probabilities: %l' % (p))\n",
    "        print('--------------------------')\n",
    "        same_probability = False"
   ]
  },
  {
   "cell_type": "markdown",
   "metadata": {},
   "source": [
    "We can make a new table that removes duplicate OID rows:"
   ]
  },
  {
   "cell_type": "code",
   "execution_count": 15,
   "metadata": {},
   "outputs": [
    {
     "data": {
      "text/plain": [
       "<Table length=78370>\n",
       "     name      dtype \n",
       "------------- -------\n",
       "          oid   str12\n",
       "        class  object\n",
       "   classifier  object\n",
       "    corrected    bool\n",
       "      deltajd float64\n",
       "     firstmjd float64\n",
       "      g_r_max  object\n",
       " g_r_max_corr  object\n",
       "     g_r_mean  object\n",
       "g_r_mean_corr  object\n",
       "      lastmjd float64\n",
       "      meandec float64\n",
       "       meanra float64\n",
       "   mjdendhist float64\n",
       " mjdstarthist float64\n",
       "     ncovhist   int64\n",
       "         ndet   int64\n",
       "     ndethist    str4\n",
       "  probability  object\n",
       "     sigmadec  object\n",
       "      sigmara  object\n",
       "      stellar    bool\n",
       " step_id_corr   str16"
      ]
     },
     "execution_count": 15,
     "metadata": {},
     "output_type": "execute_result"
    }
   ],
   "source": [
    "unique_objects = unique(objects, keys=['oid'])\n",
    "unique_objects.info"
   ]
  },
  {
   "cell_type": "markdown",
   "metadata": {},
   "source": [
    "## Exporting data to .xml <a class=\"anchor\" id=\"export\"></a>"
   ]
  },
  {
   "cell_type": "markdown",
   "metadata": {},
   "source": [
    "```astropy``` offers a simple method in which to export their Table object as an .xml file."
   ]
  },
  {
   "cell_type": "code",
   "execution_count": 16,
   "metadata": {},
   "outputs": [],
   "source": [
    "# Export our queried objects table to an .xml file\n",
    "writeto(unique_objects, \"ztf_API_output.xml\")"
   ]
  },
  {
   "cell_type": "code",
   "execution_count": null,
   "metadata": {},
   "outputs": [],
   "source": []
  }
 ],
 "metadata": {
  "kernelspec": {
   "display_name": "Python 3",
   "language": "python",
   "name": "python3"
  },
  "language_info": {
   "codemirror_mode": {
    "name": "ipython",
    "version": 3
   },
   "file_extension": ".py",
   "mimetype": "text/x-python",
   "name": "python",
   "nbconvert_exporter": "python",
   "pygments_lexer": "ipython3",
   "version": "3.8.5"
  }
 },
 "nbformat": 4,
 "nbformat_minor": 4
}
